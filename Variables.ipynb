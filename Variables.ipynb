{
 "cells": [
  {
   "cell_type": "markdown",
   "id": "1ac9ea60-d2c5-4d69-a395-04af50cf26ee",
   "metadata": {},
   "source": [
    "### Python Variable (Identifier)"
   ]
  },
  {
   "cell_type": "markdown",
   "id": "bfcc1e1d-443e-462c-85d3-85397f00cc63",
   "metadata": {},
   "source": [
    "A Python variable is a symbolic name that is a reference or pointer to an object. Once an object is assigned to a variable, you can refer to the object by that name. But the data itself is still contained within the object."
   ]
  },
  {
   "cell_type": "markdown",
   "id": "0ccdd5ab-3bf2-44a6-8172-875a5278e4c9",
   "metadata": {},
   "source": [
    "### How do I define a variable?\r\n",
    "To create a variable in Python, just assign a value to a name with the equals sign (=). For example, my_variable = 10 declares a variable called my_variable and gives it the integer value 10. Variable names may contain letters, digits, and underscores but must begin with a letter or underscore.\r\n"
   ]
  },
  {
   "cell_type": "markdown",
   "id": "d713f034-b5de-4910-a9b0-ec9226e3c5ea",
   "metadata": {},
   "source": [
    "### Rules For Variables"
   ]
  },
  {
   "cell_type": "markdown",
   "id": "a58bc77d-5a15-4ce4-b14a-5a9bdf85bf8b",
   "metadata": {},
   "source": [
    "A variable name must start with a letter or the underscore character."
   ]
  },
  {
   "cell_type": "markdown",
   "id": "3eb6e03a-dab4-4dbb-b1f0-29a1cc23cf8b",
   "metadata": {},
   "source": [
    "A variable name cannot start with a number."
   ]
  },
  {
   "cell_type": "markdown",
   "id": "c3a3b579-ab0a-4298-ac23-cfaff3e3e3dd",
   "metadata": {},
   "source": [
    "A variable name can only contain alpha-numeric characters and underscores (A-z, 0-9, and _ )."
   ]
  },
  {
   "cell_type": "markdown",
   "id": "1e0f5ba2-634f-42ff-b42e-fbff9f934554",
   "metadata": {},
   "source": [
    "Variable names are case-sensitive (age, Age and AGE are three different variables)."
   ]
  },
  {
   "cell_type": "markdown",
   "id": "693222a7-e784-4110-a76f-7199113d0260",
   "metadata": {},
   "source": [
    "A variable name cannot be any of the Python keywords."
   ]
  },
  {
   "cell_type": "code",
   "execution_count": 46,
   "id": "09732f04-663b-44d8-9789-75d559a355b3",
   "metadata": {},
   "outputs": [
    {
     "name": "stdout",
     "output_type": "stream",
     "text": [
      "Age: 25\n",
      "Height: 5.9\n",
      "Name: Alice\n",
      "Is Student: True\n",
      "Fruits: ['apple', 'banana', 'cherry']\n",
      "Coordinates: (10.0, 20.5)\n",
      "Person: {'name': 'Bob', 'age': 30, 'is_student': False}\n",
      "Unique Numbers: {1, 2, 3, 4, 5}\n",
      "Data: None\n",
      "Complex Number: (3+4j)\n",
      "Quote: She said, \"Hello!\"\n",
      "Description: This is a\n",
      "multi-line string.\n",
      "Squares: [0, 1, 4, 9, 16, 25, 36, 49, 64, 81]\n",
      "Greeting: Hello, Charlie!\n",
      "Add (2 + 3): 5\n",
      "File Path: /home/user/documents/file.txt\n",
      "Home Directory: None\n",
      "API URL: https://api.example.com/data\n",
      "Pattern: \\d{3}-\\d{2}-\\d{4}\n",
      "Duration (5 days): 5 days, 0:00:00\n"
     ]
    }
   ],
   "source": [
    "#valid variables\n",
    "age = 25\n",
    "print(\"Age:\", age)\n",
    "height = 5.9\n",
    "print(\"Height:\", height)\n",
    "name = \"Alice\"\n",
    "print(\"Name:\", name)\n",
    "is_student = True\n",
    "print(\"Is Student:\", is_student)\n",
    "fruits = [\"apple\", \"banana\", \"cherry\"]\n",
    "print(\"Fruits:\", fruits)\n",
    "coordinates = (10.0, 20.5)\n",
    "print(\"Coordinates:\", coordinates)\n",
    "person = {\n",
    "    \"name\": \"Bob\",\n",
    "    \"age\": 30,\n",
    "    \"is_student\": False\n",
    "}\n",
    "print(\"Person:\", person)\n",
    "unique_numbers = {1, 2, 3, 4, 5}\n",
    "print(\"Unique Numbers:\", unique_numbers)\n",
    "data = None\n",
    "print(\"Data:\", data)\n",
    "complex_num = 3 + 4j\n",
    "print(\"Complex Number:\", complex_num)\n",
    "quote = \"She said, \\\"Hello!\\\"\"\n",
    "print(\"Quote:\", quote)\n",
    "description = \"\"\"This is a\n",
    "multi-line string.\"\"\"\n",
    "print(\"Description:\", description)\n",
    "squares = [x**2 for x in range(10)]\n",
    "print(\"Squares:\", squares)\n",
    "def greet(name):\n",
    "    return f\"Hello, {name}!\"\n",
    "\n",
    "greeting = greet(\"Charlie\")\n",
    "print(\"Greeting:\", greeting)\n",
    "add = lambda x, y: x + y\n",
    "print(\"Add (2 + 3):\", add(2, 3))\n",
    "file_path = \"/home/user/documents/file.txt\"\n",
    "print(\"File Path:\", file_path)\n",
    "import os\n",
    "home_directory = os.environ.get(\"HOME\")\n",
    "print(\"Home Directory:\", home_directory)\n",
    "api_url = \"https://api.example.com/data\"\n",
    "print(\"API URL:\", api_url)\n",
    "import re\n",
    "pattern = r\"\\d{3}-\\d{2}-\\d{4}\"\n",
    "print(\"Pattern:\", pattern)\n",
    "import datetime\n",
    "duration = datetime.timedelta(days=5)\n",
    "print(\"Duration (5 days):\", duration)"
   ]
  },
  {
   "cell_type": "code",
   "execution_count": 48,
   "id": "95a55a03-9636-4a6f-8408-258e038c472b",
   "metadata": {},
   "outputs": [
    {
     "ename": "SyntaxError",
     "evalue": "invalid decimal literal (1351485292.py, line 3)",
     "output_type": "error",
     "traceback": [
      "\u001b[1;36m  Cell \u001b[1;32mIn[48], line 3\u001b[1;36m\u001b[0m\n\u001b[1;33m    1st_variable = 10\u001b[0m\n\u001b[1;37m    ^\u001b[0m\n\u001b[1;31mSyntaxError\u001b[0m\u001b[1;31m:\u001b[0m invalid decimal literal\n"
     ]
    }
   ],
   "source": [
    "#invalid variables\n",
    "\n",
    "1st_variable = 10\n",
    "2my-variable = 20\n",
    "3my variable = 30\n",
    "4@variable = \"hello\"\n",
    "class = \"Python\"\n",
    "def = 5.5\n",
    "float! = 3.14\n",
    "my$var = True\n",
    "var-name = [1, 2, 3]\n",
    "None = None\n",
    "if = \"condition\"\n",
    "my variable! = \"World\"\n",
    "var@name = \"test\"\n",
    "float% = 100\n",
    "var#1 = 50\n",
    "my-variable-1 = 25\n",
    "lives9 = \"nine lives\"\n",
    "my var = 5\n",
    "total$Amount = 1000\n",
    "*temp = 15\n"
   ]
  },
  {
   "cell_type": "markdown",
   "id": "d4128a39-255c-42b9-b535-de883c521c71",
   "metadata": {},
   "source": [
    "### Multiple Variable"
   ]
  },
  {
   "cell_type": "code",
   "execution_count": 56,
   "id": "73818b2b-72f1-4acc-92ec-0deb38475e63",
   "metadata": {},
   "outputs": [
    {
     "name": "stdout",
     "output_type": "stream",
     "text": [
      "a = 10, b = 10, c = 10\n",
      "\n",
      "x = 1, y = 2, z = 3\n",
      "\n",
      "fruit1 = apple, fruit2 = banana, fruit3 = cherry\n",
      "\n",
      "Before swapping: a = 5, b = 10\n",
      "After swapping: a = 10, b = 5\n",
      "\n",
      "name = Alice, age = 20, is_student = True\n"
     ]
    }
   ],
   "source": [
    "a = b = c = 10\n",
    "print(f\"a = {a}, b = {b}, c = {c}\\n\")\n",
    "\n",
    "x, y, z = 1, 2, 3\n",
    "print(f\"x = {x}, y = {y}, z = {z}\\n\")\n",
    "\n",
    "fruits = [\"apple\", \"banana\", \"cherry\"]\n",
    "fruit1, fruit2, fruit3 = fruits\n",
    "print(f\"fruit1 = {fruit1}, fruit2 = {fruit2}, fruit3 = {fruit3}\\n\")\n",
    "\n",
    "a, b = 5, 10\n",
    "print(f\"Before swapping: a = {a}, b = {b}\")\n",
    "a, b = b, a\n",
    "print(f\"After swapping: a = {a}, b = {b}\\n\")\n",
    "\n",
    "name, age, is_student = \"Alice\", 20, True\n",
    "print(f\"name = {name}, age = {age}, is_student = {is_student}\")\n"
   ]
  },
  {
   "cell_type": "code",
   "execution_count": null,
   "id": "785148bc-0ff1-4376-93ea-0f0f0a65c444",
   "metadata": {},
   "outputs": [],
   "source": []
  }
 ],
 "metadata": {
  "kernelspec": {
   "display_name": "Python 3 (ipykernel)",
   "language": "python",
   "name": "python3"
  },
  "language_info": {
   "codemirror_mode": {
    "name": "ipython",
    "version": 3
   },
   "file_extension": ".py",
   "mimetype": "text/x-python",
   "name": "python",
   "nbconvert_exporter": "python",
   "pygments_lexer": "ipython3",
   "version": "3.12.4"
  }
 },
 "nbformat": 4,
 "nbformat_minor": 5
}
