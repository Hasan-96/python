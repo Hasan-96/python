{
 "cells": [
  {
   "cell_type": "markdown",
   "id": "b197caa6-26b1-4581-a1b2-6d23c84bfc21",
   "metadata": {},
   "source": [
    "## Python Strings\n",
    "\n",
    "In Python, a string is a data type used to represent a sequence of characters.\n",
    "\n",
    "String's are one of the most commonly used data types, and they are used to represent text.\n",
    "\n",
    "\n",
    "Strings in Python are immutable sequences of characters used to represent text. They can be enclosed in single quotes ('...'), double quotes (\"...\"), or triple quotes ('''...''' or \"\"\"...\"\"\") for multi-line text.\n",
    "\n",
    "We use single quotes or double quotes to represent a string in python.\n",
    "\n"
   ]
  },
  {
   "cell_type": "markdown",
   "id": "1fd24370-b15c-4672-86cd-398dee46fda3",
   "metadata": {},
   "source": [
    "#### Example"
   ]
  },
  {
   "cell_type": "code",
   "execution_count": 13,
   "id": "509ed545-88b1-4803-900f-7f256f9f8211",
   "metadata": {},
   "outputs": [
    {
     "name": "stdout",
     "output_type": "stream",
     "text": [
      "Hello, World!\n",
      "This is a multi-line\n",
      "string in Python.\n",
      "<class 'str'>\n"
     ]
    }
   ],
   "source": [
    "str1 = \"Hello, World!\"\n",
    "str2 = 'Python lanuage'\n",
    "str3 = \"\"\"This is a multi-line\n",
    "string in Python.\"\"\"\n",
    "print(str1)\n",
    "print(str3)\n",
    "print(type(str1))"
   ]
  },
  {
   "cell_type": "markdown",
   "id": "ff7aac7b-840f-4d44-885e-cb74067a5dc6",
   "metadata": {},
   "source": [
    "### String Operations\n"
   ]
  },
  {
   "cell_type": "markdown",
   "id": "99924de4-edba-4e99-9864-0c7161698c82",
   "metadata": {},
   "source": [
    "### 1.concatenation\n",
    "\n",
    "By using Concatenation we can combine strings using the + operator."
   ]
  },
  {
   "cell_type": "code",
   "execution_count": 3,
   "id": "f705a92f-1bdb-4fc8-89c3-b56fcee2874d",
   "metadata": {},
   "outputs": [
    {
     "name": "stdout",
     "output_type": "stream",
     "text": [
      "Hasan ahmed\n"
     ]
    }
   ],
   "source": [
    "string1 = \"Hasan\"\n",
    "string2 = \"ahmed\"\n",
    "result = string1 + \" \" + string2\n",
    "print(result)"
   ]
  },
  {
   "cell_type": "markdown",
   "id": "dfb6cb01-54d1-49b7-b2ea-bfb1ceff763f",
   "metadata": {},
   "source": [
    "### 2. Repetition\n",
    "\n",
    "Repeats a string multiple times."
   ]
  },
  {
   "cell_type": "code",
   "execution_count": 7,
   "id": "ade2f2f7-ce16-4307-93f4-42a362600c1c",
   "metadata": {},
   "outputs": [
    {
     "name": "stdout",
     "output_type": "stream",
     "text": [
      "(1, 3.2, 32, 432, 1, 3.2, 32, 432, 1, 3.2, 32, 432)\n"
     ]
    }
   ],
   "source": [
    "str1=1,3.2,32,432\n",
    "repeat=str1*3\n",
    "print(repeat)"
   ]
  },
  {
   "cell_type": "markdown",
   "id": "89ad69a6-c74a-4b8a-9831-baeccdc0a88d",
   "metadata": {},
   "source": [
    "### 3. Indexing\n",
    "\n",
    "Accessing individual character in a string."
   ]
  },
  {
   "cell_type": "code",
   "execution_count": 19,
   "id": "20dd323b-ee81-4a9f-857e-6ea39166157c",
   "metadata": {},
   "outputs": [
    {
     "name": "stdout",
     "output_type": "stream",
     "text": [
      "t\n",
      "p\n"
     ]
    }
   ],
   "source": [
    "str1=\"python\"\n",
    "print(str1[2])\n",
    "print(str1[0])"
   ]
  },
  {
   "cell_type": "markdown",
   "id": "bf16cf99-8f23-4bcd-a419-57b163f5a7d2",
   "metadata": {},
   "source": [
    "### 4. Slicing\n",
    "Extracting a substring from a string."
   ]
  },
  {
   "cell_type": "code",
   "execution_count": 21,
   "id": "3c51bc20-21e5-471b-b329-13e45b6ed893",
   "metadata": {},
   "outputs": [
    {
     "name": "stdout",
     "output_type": "stream",
     "text": [
      "th\n",
      "pyt\n"
     ]
    }
   ],
   "source": [
    "str1=\"python\"\n",
    "print(str1[2:4])\n",
    "print(str1[0:3])"
   ]
  },
  {
   "cell_type": "markdown",
   "id": "dbff204e-6f6f-4e92-af3e-a1bff4d800ff",
   "metadata": {
    "jp-MarkdownHeadingCollapsed": true
   },
   "source": [
    "### Python Format String"
   ]
  },
  {
   "cell_type": "markdown",
   "id": "95f8e2c5-091d-4195-ab6b-3921029df351",
   "metadata": {},
   "source": [
    "### 1.old style formatting (% operator)"
   ]
  },
  {
   "cell_type": "code",
   "execution_count": 82,
   "id": "0d6a2b7c-730d-4576-87bd-8a1194c845b8",
   "metadata": {},
   "outputs": [
    {
     "name": "stdout",
     "output_type": "stream",
     "text": [
      " My name is sk.hasan ahmed.\n",
      " I am 23 years old,\n",
      " I am from vijayawada.\n",
      " I have completed my B.TECH in EEE Engineering.\n",
      "\n"
     ]
    }
   ],
   "source": [
    "# 1.old style formatting (% operator)\n",
    "\n",
    "# uses the percentage operator and placeholders\n",
    "name=\"sk.hasan ahmed\"\n",
    "age=23\n",
    "place=\"vijayawada\"\n",
    "qualification=\"B.TECH\"\n",
    "Branch=\"EEE\"\n",
    "\n",
    "formatted_string= \" My name is %s.\\n I am %d years old,\\n I am from %s.\\n I have completed my %s in %s Engineering.\\n\" %(name,age,place,qualification,Branch)\n",
    "print(formatted_string)"
   ]
  },
  {
   "cell_type": "markdown",
   "id": "263e0591-358b-49fb-8ddf-eb3ca3176c5b",
   "metadata": {},
   "source": [
    "### 2.format method"
   ]
  },
  {
   "cell_type": "code",
   "execution_count": 80,
   "id": "ebd83ca2-d514-45cf-98f6-cabb0add1ed8",
   "metadata": {},
   "outputs": [
    {
     "name": "stdout",
     "output_type": "stream",
     "text": [
      " My name is sk.hasan ahmed.\n",
      " I am 23 years old,\n",
      " I am from vijayawada.\n",
      " I have completed my B.TECH in EEE Engineering.\n",
      "\n"
     ]
    }
   ],
   "source": [
    "# 2.format method\n",
    "\n",
    "# uses the format() method withplaceholders\n",
    "name=\"sk.hasan ahmed\"\n",
    "age=23\n",
    "place=\"vijayawada\"\n",
    "qualification=\"B.TECH\"\n",
    "Branch=\"EEE\"\n",
    "\n",
    "formatted_string= \" My name is {}.\\n I am {} years old,\\n I am from {}.\\n I have completed my {} in {} Engineering.\\n\".format(name,age,place,qualification,Branch)\n",
    "print(formatted_string)"
   ]
  },
  {
   "cell_type": "markdown",
   "id": "43dfe7fb-15c0-4bb7-811e-95b42c0cbda1",
   "metadata": {},
   "source": [
    "### 3.String Interpolation (f - string)\n",
    "\n",
    "To specify a string as an f-string, simply put an \" f \" in front of the string literal, and add curly brackets {} as placeholders for variables and other operations."
   ]
  },
  {
   "cell_type": "code",
   "execution_count": 84,
   "id": "4908a17f-2f30-4dee-979d-94c82b9be17d",
   "metadata": {},
   "outputs": [
    {
     "name": "stdout",
     "output_type": "stream",
     "text": [
      " My name is sk.hasan ahmed.\n",
      " I am 23 years old,\n",
      " I am from vijayawada.\n",
      " I have completed my B.TECH in EEE Engineering.\n",
      "\n"
     ]
    }
   ],
   "source": [
    "name=\"sk.hasan ahmed\"\n",
    "age=23\n",
    "place=\"vijayawada\"\n",
    "qualification=\"B.TECH\"\n",
    "Branch=\"EEE\"\n",
    "\n",
    "formatted_string= f\" My name is {name}.\\n I am {age} years old,\\n I am from {place}.\\n I have completed my {qualification} in {Branch} Engineering.\\n\"\n",
    "print(formatted_string)"
   ]
  },
  {
   "cell_type": "markdown",
   "id": "db2511cb-2eca-468b-a0de-7ad0dab18fea",
   "metadata": {},
   "source": [
    "### String methods"
   ]
  },
  {
   "cell_type": "markdown",
   "id": "8cece855-fae9-4e47-9f79-888adbc73830",
   "metadata": {},
   "source": [
    "Python has a set of built - in methods that we can use on strings.\n",
    "\n",
    "All string methods return new values they do not change the original string.\n",
    "\n"
   ]
  },
  {
   "cell_type": "markdown",
   "id": "d99c2f0e-30e6-41f4-9580-ae78818890fe",
   "metadata": {},
   "source": [
    "### 1.len()\n",
    "\n",
    "   returns th length of the string."
   ]
  },
  {
   "cell_type": "code",
   "execution_count": 61,
   "id": "b2372044-49fb-4210-9d08-447391e4eee2",
   "metadata": {},
   "outputs": [
    {
     "name": "stdout",
     "output_type": "stream",
     "text": [
      "13\n"
     ]
    }
   ],
   "source": [
    "my_string=\"Python is fun\"\n",
    "length=len(my_string)\n",
    "print(length)"
   ]
  },
  {
   "cell_type": "markdown",
   "id": "2781b472-2c62-4b93-8c5d-b6d9e8f96f08",
   "metadata": {},
   "source": [
    "### 2.lower/upper()\n",
    "\n",
    "converts the string to lowercase / uppercase."
   ]
  },
  {
   "cell_type": "code",
   "execution_count": 64,
   "id": "d83e1e20-4014-475d-9c4a-45738b243f3a",
   "metadata": {},
   "outputs": [
    {
     "name": "stdout",
     "output_type": "stream",
     "text": [
      "HASAN\n",
      "ahmed\n"
     ]
    }
   ],
   "source": [
    "str1=\"hasan\"\n",
    "str2=\"AHMED\"\n",
    "print(str1.upper())\n",
    "print(str2.lower())"
   ]
  },
  {
   "cell_type": "markdown",
   "id": "721aec01-eecd-40f7-9279-ded16606e257",
   "metadata": {},
   "source": [
    "### 3.strip()\n",
    "\n",
    "removes leading and trailing white spaces."
   ]
  },
  {
   "cell_type": "code",
   "execution_count": 86,
   "id": "33ee449d-4c46-4f91-8af1-5f578b5cdad5",
   "metadata": {},
   "outputs": [
    {
     "name": "stdout",
     "output_type": "stream",
     "text": [
      "hello world\n"
     ]
    }
   ],
   "source": [
    "name=\"    hello world     \"\n",
    "print(name.strip())"
   ]
  },
  {
   "cell_type": "markdown",
   "id": "2f111423-06f9-4220-873e-b95e3e0f7e65",
   "metadata": {},
   "source": [
    "### 4.replace()\n",
    "\n",
    "replaces a substring with another substring."
   ]
  },
  {
   "cell_type": "code",
   "execution_count": 93,
   "id": "066419f5-91e4-4934-a25a-127f86f42d3a",
   "metadata": {},
   "outputs": [
    {
     "name": "stdout",
     "output_type": "stream",
     "text": [
      "having fun with friends\n",
      "having fun with family\n"
     ]
    }
   ],
   "source": [
    "str1=\"having fun with friends\"\n",
    "print(str1)\n",
    "str2=str1.replace(\"friends\",\"family\")\n",
    "print(str2)"
   ]
  },
  {
   "cell_type": "markdown",
   "id": "eea482ff-3489-41ac-a8cb-bdfd36ae8756",
   "metadata": {},
   "source": [
    "### 5.split()\n",
    "\n",
    "split the string into a list of substring."
   ]
  },
  {
   "cell_type": "code",
   "execution_count": 112,
   "id": "f127783f-01ae-48e0-8aaa-39a4c683f23e",
   "metadata": {},
   "outputs": [
    {
     "name": "stdout",
     "output_type": "stream",
     "text": [
      "['python', 'is', 'fun', 'and', 'python', 'is', 'good', 'to', 'learn.']\n"
     ]
    }
   ],
   "source": [
    "str1=\"python is fun and python is good to learn.\"\n",
    "split=str1.split()\n",
    "print(split)"
   ]
  },
  {
   "cell_type": "markdown",
   "id": "970ade02-f485-4a57-90a5-10dad10af0e3",
   "metadata": {},
   "source": [
    "### 6.join()\n",
    "\n",
    "joins a list of string into a single string."
   ]
  },
  {
   "cell_type": "code",
   "execution_count": 105,
   "id": "3fb71467-6500-4ebd-a757-f34bc6bdb297",
   "metadata": {},
   "outputs": [
    {
     "name": "stdout",
     "output_type": "stream",
     "text": [
      "python is fun and python is good to learn.\n"
     ]
    }
   ],
   "source": [
    "str1=\"python is fun and python is good to learn.\"\n",
    "split=\"\".join(str1)\n",
    "print(split)"
   ]
  },
  {
   "cell_type": "markdown",
   "id": "a4ee3172-7391-4a31-908f-618dbf8eb059",
   "metadata": {},
   "source": [
    "### 7.capitalize()\n",
    "\n",
    "Converts the frist character to upper case.\n",
    "\n",
    "The first character is converted to upper case, and the rest are converted to lower case"
   ]
  },
  {
   "cell_type": "code",
   "execution_count": 110,
   "id": "01a3bfbf-fa50-4bf1-b9bb-d576b6f20923",
   "metadata": {},
   "outputs": [
    {
     "name": "stdout",
     "output_type": "stream",
     "text": [
      "My name is hasan\n"
     ]
    }
   ],
   "source": [
    "str=\"my name is hasan\"\n",
    "result=str.capitalize()\n",
    "print(result)"
   ]
  },
  {
   "cell_type": "markdown",
   "id": "3ab56496-99c8-4fa3-81d6-9b315bb9d696",
   "metadata": {},
   "source": [
    "### 8. casefold():\n",
    "\n",
    "Converts string into lower case"
   ]
  },
  {
   "cell_type": "code",
   "execution_count": 123,
   "id": "7b3e6bb7-4715-4cdc-9baf-48134e9e84a7",
   "metadata": {},
   "outputs": [
    {
     "name": "stdout",
     "output_type": "stream",
     "text": [
      "my name is hasan\n"
     ]
    }
   ],
   "source": [
    "str=\"My Name Is Hasan\"\n",
    "result=str.casefold()\n",
    "print(result)"
   ]
  },
  {
   "cell_type": "markdown",
   "id": "b91f9ccf-aac4-4b42-8593-1f637400e09c",
   "metadata": {},
   "source": [
    "### 9.center():\n",
    "\n",
    "Returns a centered string.\n"
   ]
  },
  {
   "cell_type": "code",
   "execution_count": 127,
   "id": "0d22fce8-0800-4e85-ac55-eba1def74424",
   "metadata": {},
   "outputs": [
    {
     "name": "stdout",
     "output_type": "stream",
     "text": [
      "       python       \n"
     ]
    }
   ],
   "source": [
    "str=\"python\"\n",
    "result=str.center(20)\n",
    "print(result)"
   ]
  },
  {
   "cell_type": "markdown",
   "id": "cfe7e71a-17a6-4a10-b8ee-3e3f25198c4a",
   "metadata": {},
   "source": [
    "### 10.count():\n",
    "\n",
    "Returns the number of times a specified value occurs in a string."
   ]
  },
  {
   "cell_type": "code",
   "execution_count": 132,
   "id": "735245d0-ac50-4011-8751-693cc91121a4",
   "metadata": {},
   "outputs": [
    {
     "name": "stdout",
     "output_type": "stream",
     "text": [
      "1\n"
     ]
    }
   ],
   "source": [
    "str=\"python is fun\"\n",
    "result=str.count(\"is\")\n",
    "print(result)"
   ]
  },
  {
   "cell_type": "markdown",
   "id": "81bc3d11-eb61-4b1d-bcc7-e9879c5c41c2",
   "metadata": {},
   "source": [
    "### 11.encode():\n",
    "\n",
    "Returns an encoded version of the string."
   ]
  },
  {
   "cell_type": "code",
   "execution_count": 140,
   "id": "632a8e92-0063-446d-99d7-e338ab66e4c5",
   "metadata": {},
   "outputs": [
    {
     "name": "stdout",
     "output_type": "stream",
     "text": [
      "b'Python'\n"
     ]
    }
   ],
   "source": [
    "str=\"Python\"\n",
    "x=str.encode()\n",
    "print(x)"
   ]
  },
  {
   "cell_type": "markdown",
   "id": "b46546fd-cf16-490d-b9fd-83a9dd5076e6",
   "metadata": {},
   "source": [
    "### 12.endswith():\n",
    "\n",
    "Returns true if the string ends with the specified value."
   ]
  },
  {
   "cell_type": "code",
   "execution_count": 147,
   "id": "9d92e847-c5c4-4607-aa59-a184c9003354",
   "metadata": {},
   "outputs": [
    {
     "name": "stdout",
     "output_type": "stream",
     "text": [
      "False\n"
     ]
    }
   ],
   "source": [
    "txt = \"Hello, welcome to my world.\"\n",
    "x = txt.endswith(\"my world.\", 5, 11)\n",
    "print(x)"
   ]
  },
  {
   "cell_type": "markdown",
   "id": "ebdac97f-a1be-4d85-bd57-efe8f767f33b",
   "metadata": {},
   "source": [
    "### 13.expandtabs():\n",
    "\n",
    "Sets the tab size of the string"
   ]
  },
  {
   "cell_type": "code",
   "execution_count": 164,
   "id": "4b3b9546-d31a-4922-909a-4cfd0e0ecf7f",
   "metadata": {},
   "outputs": [
    {
     "name": "stdout",
     "output_type": "stream",
     "text": [
      "H\ta\ts\ta\tn\n",
      "Hasan\n",
      "H a s a n\n",
      "H  a  s  a  n\n",
      "H   a   s   a   n\n"
     ]
    }
   ],
   "source": [
    "txt = \"H\\ta\\ts\\ta\\tn\"\n",
    "\n",
    "print(txt)\n",
    "print(txt.expandtabs(0))\n",
    "print(txt.expandtabs(1))\n",
    "print(txt.expandtabs(3))\n",
    "print(txt.expandtabs(4))"
   ]
  },
  {
   "cell_type": "markdown",
   "id": "c3ed6219-c3f0-4cd8-886d-83f3767cd0e9",
   "metadata": {},
   "source": [
    "### 14.find():\n",
    "\n",
    "Searches the string for a specified value and returns the position of where it was found."
   ]
  },
  {
   "cell_type": "code",
   "execution_count": 167,
   "id": "cc43dc6a-79e2-4ac7-bd2d-1b7a7147347e",
   "metadata": {},
   "outputs": [
    {
     "name": "stdout",
     "output_type": "stream",
     "text": [
      "4\n"
     ]
    }
   ],
   "source": [
    "str=\"i like python\"\n",
    "finding=str.find(\"k\")\n",
    "print(finding)"
   ]
  },
  {
   "cell_type": "markdown",
   "id": "d2deb7ec-2eaa-4646-b944-a2bba6d728d6",
   "metadata": {},
   "source": [
    "### 15.Format\n",
    "\n",
    "Formats specified values in a string"
   ]
  },
  {
   "cell_type": "code",
   "execution_count": 170,
   "id": "3a7f1993-b10e-4dab-a309-14ecef95272c",
   "metadata": {},
   "outputs": [
    {
     "name": "stdout",
     "output_type": "stream",
     "text": [
      "For only 49.00 dollars!\n"
     ]
    }
   ],
   "source": [
    "txt = \"For only {price:.2f} dollars!\"\n",
    "print(txt.format(price = 49))\n"
   ]
  },
  {
   "cell_type": "markdown",
   "id": "713cde5d-7d36-4791-95b4-f3bd0dcb9c19",
   "metadata": {},
   "source": [
    "### 16.index()\t\n",
    "\n",
    "Searches the string for a specified value and returns the position of where it was found"
   ]
  },
  {
   "cell_type": "code",
   "execution_count": 174,
   "id": "755d9743-ae64-4f4b-9e79-87e3c13013ba",
   "metadata": {},
   "outputs": [
    {
     "name": "stdout",
     "output_type": "stream",
     "text": [
      "7\n"
     ]
    }
   ],
   "source": [
    "txt = \"Hello, welcome to my world.\"\n",
    "\n",
    "x = txt.index(\"welcome\")\n",
    "\n",
    "print(x)"
   ]
  },
  {
   "cell_type": "markdown",
   "id": "87ed6b9a-6a76-4c04-9b0a-1610b5b54afd",
   "metadata": {},
   "source": [
    "### 17.isalnum()\t\n",
    "\n",
    "Returns True if all characters in the string are alphanumeric"
   ]
  },
  {
   "cell_type": "code",
   "execution_count": 199,
   "id": "5d54eac0-cfd9-4fc7-88b6-e755cb9405b9",
   "metadata": {},
   "outputs": [
    {
     "name": "stdout",
     "output_type": "stream",
     "text": [
      "True\n"
     ]
    }
   ],
   "source": [
    "str= \"hasan\"\n",
    "x =str.isalnum()\n",
    "print(x)"
   ]
  },
  {
   "cell_type": "markdown",
   "id": "5e6f6e2c-0658-40a1-8dfc-5375d8d24371",
   "metadata": {},
   "source": [
    "### 18.isalpha()\t\n",
    "\n",
    "Returns True if all characters in the string are in the alphabet"
   ]
  },
  {
   "cell_type": "code",
   "execution_count": 202,
   "id": "7d73016c-4a9a-4fb8-a5ad-a64d2697e857",
   "metadata": {},
   "outputs": [
    {
     "name": "stdout",
     "output_type": "stream",
     "text": [
      "True\n"
     ]
    }
   ],
   "source": [
    "str= \"hasan\"\n",
    "x = str.isalpha()\n",
    "print(x)"
   ]
  },
  {
   "cell_type": "markdown",
   "id": "f68d1f35-248f-4bfd-b445-2f4a00f09c24",
   "metadata": {},
   "source": [
    "### 19.isascii()\t\n",
    "\n",
    "Returns True if all characters in the string are ascii characters"
   ]
  },
  {
   "cell_type": "code",
   "execution_count": 205,
   "id": "e4eeb02e-d2cb-4c3f-af7a-4ff029d385d8",
   "metadata": {},
   "outputs": [
    {
     "name": "stdout",
     "output_type": "stream",
     "text": [
      "True\n"
     ]
    }
   ],
   "source": [
    "str = \"hasan123\"\n",
    "x=str.isascii()\n",
    "print(x)"
   ]
  },
  {
   "cell_type": "markdown",
   "id": "f6ee197f-1801-4c80-b5c3-9def8109cd64",
   "metadata": {},
   "source": [
    "### 20.isdecimal()\t\n",
    "\n",
    "Returns True if all characters in the string are decimals"
   ]
  },
  {
   "cell_type": "code",
   "execution_count": 217,
   "id": "7f8c5f77-9d0c-474b-ba83-f4467c8934e7",
   "metadata": {},
   "outputs": [
    {
     "name": "stdout",
     "output_type": "stream",
     "text": [
      "True\n"
     ]
    }
   ],
   "source": [
    "txt = \"12786\"\n",
    "x = txt.isdecimal()\n",
    "print(x)"
   ]
  },
  {
   "cell_type": "markdown",
   "id": "d649d0bb-84b7-4f2b-b94e-224d4330caeb",
   "metadata": {},
   "source": [
    "### 21.isdigit()\t\n",
    "\n",
    "Returns True if all characters in the string are digits"
   ]
  },
  {
   "cell_type": "code",
   "execution_count": 219,
   "id": "156928cc-f899-4dd2-acfe-756d180f73f3",
   "metadata": {},
   "outputs": [
    {
     "name": "stdout",
     "output_type": "stream",
     "text": [
      "False\n"
     ]
    }
   ],
   "source": [
    "txt = \"50800\"\n",
    "\n",
    "x = txt.isdigit()\n",
    "\n",
    "print(x)"
   ]
  },
  {
   "cell_type": "markdown",
   "id": "e0a11ca2-de37-4a30-bb13-dea57e8d0e54",
   "metadata": {},
   "source": [
    "### 22.isidentifier()\t\n",
    "\n",
    "Returns True if the string is an identifier"
   ]
  },
  {
   "cell_type": "code",
   "execution_count": 222,
   "id": "842a458a-d094-46c4-8eeb-2aa9d9fb9a38",
   "metadata": {},
   "outputs": [
    {
     "name": "stdout",
     "output_type": "stream",
     "text": [
      "True\n"
     ]
    }
   ],
   "source": [
    "txt = \"hasan\"\n",
    "\n",
    "x = txt.isidentifier()\n",
    "\n",
    "print(x)"
   ]
  },
  {
   "cell_type": "markdown",
   "id": "63642ef8-13d1-4f1c-bb3d-fdf8c41aaffa",
   "metadata": {},
   "source": [
    "### 23.islower()\t\n",
    "\n",
    "Returns True if all characters in the string are lower case"
   ]
  },
  {
   "cell_type": "code",
   "execution_count": 227,
   "id": "225e8935-2d44-40cb-9534-3ae1b5186680",
   "metadata": {},
   "outputs": [
    {
     "name": "stdout",
     "output_type": "stream",
     "text": [
      "True\n",
      "False\n",
      "True\n",
      "False\n"
     ]
    }
   ],
   "source": [
    "txt = \"hello world!\"\n",
    "\n",
    "x = txt.islower()\n",
    "\n",
    "print(x)\n",
    "\n",
    "a = \"Hello world!\"\n",
    "b = \"hello 123\"\n",
    "c = \"mynameisPeter\"\n",
    "\n",
    "print(a.islower())\n",
    "print(b.islower())\n",
    "print(c.islower())"
   ]
  },
  {
   "cell_type": "markdown",
   "id": "4203f761-f886-4c6c-8a8d-a3db4124cbd7",
   "metadata": {},
   "source": [
    "### 24.isnumeric()\t\n",
    "\n",
    "Returns True if all characters in the string are numeric"
   ]
  },
  {
   "cell_type": "code",
   "execution_count": 234,
   "id": "95832fed-1d81-4d92-be99-3b34a21aa911",
   "metadata": {},
   "outputs": [
    {
     "name": "stdout",
     "output_type": "stream",
     "text": [
      "True\n",
      "False\n",
      "False\n"
     ]
    }
   ],
   "source": [
    "txt = \"6535\"\n",
    "x = txt.isnumeric()\n",
    "print(x)\n",
    "d = \"-1\"\n",
    "e = \"1.5\"\n",
    "print(d.isnumeric())\n",
    "print(e.isnumeric())"
   ]
  },
  {
   "cell_type": "markdown",
   "id": "f8ebaf0b-8287-4b06-a822-01dcb3ad6aec",
   "metadata": {},
   "source": [
    "### 25.isprintable()\t\n",
    "\n",
    "Returns True if all characters in the string are printable"
   ]
  },
  {
   "cell_type": "code",
   "execution_count": 237,
   "id": "b1b8fe2f-f918-4e05-ae73-6660a9e52450",
   "metadata": {},
   "outputs": [
    {
     "name": "stdout",
     "output_type": "stream",
     "text": [
      "True\n"
     ]
    }
   ],
   "source": [
    "txt = \"Hello! Are you #1?\"\n",
    "\n",
    "x = txt.isprintable()\n",
    "\n",
    "print(x)"
   ]
  },
  {
   "cell_type": "markdown",
   "id": "dd5a3e89-b9e7-4239-93e6-027896d01e1f",
   "metadata": {},
   "source": [
    "### 26.isspace()\t\n",
    "\n",
    "Returns True if all characters in the string are whitespaces"
   ]
  },
  {
   "cell_type": "code",
   "execution_count": 240,
   "id": "93547db9-15ef-4883-926c-59da0139eeed",
   "metadata": {},
   "outputs": [
    {
     "name": "stdout",
     "output_type": "stream",
     "text": [
      "False\n"
     ]
    }
   ],
   "source": [
    "txt = \"   s   \"\n",
    "\n",
    "x = txt.isspace()\n",
    "\n",
    "print(x)"
   ]
  },
  {
   "cell_type": "code",
   "execution_count": 242,
   "id": "d5d306b3-f823-4aba-b80d-fa9f9e04c17a",
   "metadata": {},
   "outputs": [
    {
     "name": "stdout",
     "output_type": "stream",
     "text": [
      "True\n"
     ]
    }
   ],
   "source": [
    "txt = \"   \"\n",
    "\n",
    "x = txt.isspace()\n",
    "\n",
    "print(x)"
   ]
  },
  {
   "cell_type": "markdown",
   "id": "4767b1da-c184-4c09-ab9c-6c6665d1d963",
   "metadata": {},
   "source": [
    "### 27.istitle()\t\n",
    "\n",
    "Returns True if the string follows the rules of a title\n",
    "\n",
    "The istitle() method returns True if all words in a text start with a upper case letter, AND the rest of the word are lower case letters, otherwise False."
   ]
  },
  {
   "cell_type": "code",
   "execution_count": 245,
   "id": "e7df1ce4-a9d4-4c7b-9252-426043ea98e1",
   "metadata": {},
   "outputs": [
    {
     "name": "stdout",
     "output_type": "stream",
     "text": [
      "False\n",
      "True\n",
      "True\n",
      "True\n"
     ]
    }
   ],
   "source": [
    "a = \"HELLO, AND WELCOME TO MY WORLD\"\n",
    "b = \"Hello\"\n",
    "c = \"22 Names\"\n",
    "d = \"This Is %'!?\"\n",
    "\n",
    "print(a.istitle())\n",
    "print(b.istitle())\n",
    "print(c.istitle())\n",
    "print(d.istitle())"
   ]
  },
  {
   "cell_type": "markdown",
   "id": "4c26cedd-2546-4f6d-9dbc-b9d1caf86eef",
   "metadata": {},
   "source": [
    "### 28.isupper()\t\n",
    "\n",
    "Returns True if all characters in the string are upper case\n",
    "\n",
    "The isupper() method returns True if all the characters are in upper case, otherwise False."
   ]
  },
  {
   "cell_type": "code",
   "execution_count": 254,
   "id": "42e311ee-c370-4ecf-baf6-4bc7685f47a7",
   "metadata": {},
   "outputs": [
    {
     "name": "stdout",
     "output_type": "stream",
     "text": [
      "False\n",
      "False\n",
      "True\n"
     ]
    }
   ],
   "source": [
    "a = \"Hello World!\"\n",
    "b = \"hello 123\"\n",
    "c = \"MY NAME IS HASAN\"\n",
    "\n",
    "print(a.isupper())\n",
    "print(b.isupper())\n",
    "print(c.isupper())"
   ]
  },
  {
   "cell_type": "markdown",
   "id": "81bb4a20-e1e5-40af-9975-36d7f6f2968d",
   "metadata": {},
   "source": [
    "### 29.ljust()\t\n",
    "\n",
    "Returns a left justified version of the string"
   ]
  },
  {
   "cell_type": "code",
   "execution_count": 265,
   "id": "67994d8c-f46f-41eb-8869-bf808b390d65",
   "metadata": {},
   "outputs": [
    {
     "name": "stdout",
     "output_type": "stream",
     "text": [
      "banana                            is my favorite fruit.\n"
     ]
    }
   ],
   "source": [
    "txt = \"banana\"\n",
    "\n",
    "x = txt.ljust(33)\n",
    "\n",
    "print(x, \"is my favorite fruit.\")"
   ]
  },
  {
   "cell_type": "markdown",
   "id": "5b397e6f-2daf-4d19-a9c1-ab76374cd5df",
   "metadata": {},
   "source": [
    "### 30.lstrip()\t\n",
    "\n",
    "Returns a left trim version of the string\n",
    "\n",
    "The lstrip() method removes any leading characters (space is the default leading character to remove)"
   ]
  },
  {
   "cell_type": "code",
   "execution_count": 268,
   "id": "722d6099-da46-4f38-9568-1b395ecc5fc1",
   "metadata": {},
   "outputs": [
    {
     "name": "stdout",
     "output_type": "stream",
     "text": [
      "of all fruits banana      is my favorite\n"
     ]
    }
   ],
   "source": [
    "txt = \"     banana     \"\n",
    "\n",
    "x = txt.lstrip()\n",
    "\n",
    "print(\"of all fruits\", x, \"is my favorite\")"
   ]
  },
  {
   "cell_type": "markdown",
   "id": "5d4839df-d10e-4094-8ffd-7bec54db5422",
   "metadata": {},
   "source": [
    "### 31.maketrans()\t\n",
    "\n",
    "Returns a translation table to be used in translations"
   ]
  },
  {
   "cell_type": "code",
   "execution_count": 272,
   "id": "3fa8513a-c587-4b66-a6e9-b659d2c1a90f",
   "metadata": {},
   "outputs": [
    {
     "name": "stdout",
     "output_type": "stream",
     "text": [
      "Hello Pam!\n"
     ]
    }
   ],
   "source": [
    "txt = \"Hello Sam!\"\n",
    "mytable = str.maketrans(\"S\", \"P\")\n",
    "print(txt.translate(mytable))"
   ]
  },
  {
   "cell_type": "markdown",
   "id": "96f384ca-6518-4e97-af84-891365b24b48",
   "metadata": {},
   "source": [
    "### 32.partition()\t\n",
    "\n",
    "Returns a tuple where the string is parted into three parts\n",
    "\n",
    "The partition() method searches for a specified string, and splits the string into a tuple containing three elements.\r\n",
    "\r\n",
    "The first element contains the part before the specified string.\r\n",
    "\r\n",
    "The second element contains the specified string.\r\n",
    "\r\n",
    "The third element contains the part after the string."
   ]
  },
  {
   "cell_type": "code",
   "execution_count": 278,
   "id": "8f6c5377-c2cf-4b99-a943-0fed8264b29e",
   "metadata": {},
   "outputs": [
    {
     "name": "stdout",
     "output_type": "stream",
     "text": [
      "('I could eat ', 'bananas', ' all day')\n"
     ]
    }
   ],
   "source": [
    "txt = \"I could eat bananas all day\"\n",
    "\n",
    "x = txt.partition(\"bananas\")\n",
    "\n",
    "print(x)"
   ]
  },
  {
   "cell_type": "markdown",
   "id": "ad397785-44a1-4559-9077-984766e90e5b",
   "metadata": {},
   "source": [
    "### 33.zfill()\t\n",
    "\n",
    "Fills the string with a specified number of 0 values at the beginning\n",
    "\n",
    "The zfill() method adds zeros (0) at the beginning of the string, until it reaches the specified length.\r\n",
    "\r\n",
    "If the value of the len parameter is less than the length of the string, no filling is done.\n"
   ]
  },
  {
   "cell_type": "code",
   "execution_count": 281,
   "id": "7ce79b21-ba23-4a33-9e5f-4cd2a8847fc3",
   "metadata": {},
   "outputs": [
    {
     "name": "stdout",
     "output_type": "stream",
     "text": [
      "0000000050\n"
     ]
    }
   ],
   "source": [
    "txt = \"50\"\n",
    "\n",
    "x = txt.zfill(10)\n",
    "\n",
    "print(x)"
   ]
  },
  {
   "cell_type": "markdown",
   "id": "b9be7c42-f0d7-4364-ab44-d4ceeb2ebbe2",
   "metadata": {},
   "source": [
    "### 34.title()\t\n",
    "\n",
    "Converts the first character of each word to upper case\n",
    "\n",
    "The title() method returns a string where the first character in every word is upper case. Like a header, or a title.\r\n",
    "\r\n",
    "If the word contains a number or a symbol, the first letter after that will be converted to upper case.\r\n",
    "\r\n"
   ]
  },
  {
   "cell_type": "code",
   "execution_count": 285,
   "id": "f18e4f0f-6e58-4893-8d1b-17f4a55a29b0",
   "metadata": {},
   "outputs": [
    {
     "name": "stdout",
     "output_type": "stream",
     "text": [
      "Welcome To My World\n"
     ]
    }
   ],
   "source": [
    "txt = \"Welcome to my world\"\n",
    "\n",
    "x = txt.title()\n",
    "\n",
    "print(x)"
   ]
  },
  {
   "cell_type": "markdown",
   "id": "50a4ab6d-491f-472e-bd9f-d166d8a3dfcd",
   "metadata": {},
   "source": [
    "### 35.translate()\t\n",
    "\n",
    "Returns a translated string"
   ]
  },
  {
   "cell_type": "code",
   "execution_count": 288,
   "id": "73646b9a-f9f6-4df8-bd92-9fbd56fd3f6c",
   "metadata": {},
   "outputs": [
    {
     "name": "stdout",
     "output_type": "stream",
     "text": [
      "Hello Pam!\n"
     ]
    }
   ],
   "source": [
    "txt = \"Hello Sam!\"\n",
    "mytable = str.maketrans(\"S\", \"P\")\n",
    "print(txt.translate(mytable))"
   ]
  },
  {
   "cell_type": "code",
   "execution_count": null,
   "id": "a285bbc4-b37b-481e-9705-b6c6ea4e865f",
   "metadata": {},
   "outputs": [],
   "source": []
  }
 ],
 "metadata": {
  "kernelspec": {
   "display_name": "Python 3 (ipykernel)",
   "language": "python",
   "name": "python3"
  },
  "language_info": {
   "codemirror_mode": {
    "name": "ipython",
    "version": 3
   },
   "file_extension": ".py",
   "mimetype": "text/x-python",
   "name": "python",
   "nbconvert_exporter": "python",
   "pygments_lexer": "ipython3",
   "version": "3.12.4"
  }
 },
 "nbformat": 4,
 "nbformat_minor": 5
}
