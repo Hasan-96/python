{
 "cells": [
  {
   "cell_type": "markdown",
   "id": "ab92283b-ff68-4272-b52f-98b7a8b46b6d",
   "metadata": {},
   "source": [
    "## Python Lists"
   ]
  },
  {
   "cell_type": "markdown",
   "id": "1d47ccdb-cc9f-41b4-9837-908de5d6ddd3",
   "metadata": {},
   "source": [
    "Python lists can store an ordered collection of items, or elements, of varying types.\n",
    "\n",
    "They are often used to compile multiple items into a single, mutable variable, which is helpful for retrieving items, specifying outputs or performing calculations quickly. \n",
    "\n",
    "Lists are also a type of built-in data structure in Python (along with tuples, sets and dictionaries), which is a specified way of storing and formatting data."
   ]
  },
  {
   "cell_type": "markdown",
   "id": "90a3b08d-4f42-4919-99e2-12cea5340b37",
   "metadata": {},
   "source": [
    "To create a list in Python, write a set of items within square brackets ([]) and separate each item with a comma. \n",
    "\n",
    "Items in a list can be any basic object type found in Python, including integers, strings, floating point values or boolean values."
   ]
  },
  {
   "cell_type": "markdown",
   "id": "23ef9006-0d3d-4026-b116-8d6234feca14",
   "metadata": {},
   "source": [
    "### Creation of list"
   ]
  },
  {
   "cell_type": "code",
   "execution_count": 8,
   "id": "7b832c99-bd03-4480-939d-2a53b97f8997",
   "metadata": {},
   "outputs": [
    {
     "name": "stdout",
     "output_type": "stream",
     "text": [
      "<class 'list'>\n",
      "<class 'list'>\n"
     ]
    }
   ],
   "source": [
    "my_list=[]\n",
    "num=[8,7,4,32,]\n",
    "names=[\"apple\",\"mango\",\"banana\"]\n",
    "mixed_types=[\"apple\",65,6.78,True]\n",
    "\n",
    "print(type(mixed_types))\n",
    "print(type(num))"
   ]
  },
  {
   "cell_type": "markdown",
   "id": "d8be8ef1-dc7b-4143-a2d2-0b9dd98ba41f",
   "metadata": {},
   "source": [
    "### Access list Elements"
   ]
  },
  {
   "cell_type": "markdown",
   "id": "9f66d62e-8bc4-4a6d-826b-ed4132bbbaec",
   "metadata": {},
   "source": [
    "In Python, Lists are orderd and each item in a list is associated with a number. The number is known as a list index.\n",
    "\n",
    "\n",
    "The index of the first element is 0, second element is 1 and so on.\n",
    "Python allows negitive indexing for its sequences.\n",
    "\n",
    "\n",
    "The index of -1 referes to the last item, -2 to the second last item and so on."
   ]
  },
  {
   "cell_type": "code",
   "execution_count": 20,
   "id": "94676257-af00-4c04-a23b-e6135c6e9aff",
   "metadata": {},
   "outputs": [
    {
     "name": "stdout",
     "output_type": "stream",
     "text": [
      "Swift\n",
      "C\n"
     ]
    }
   ],
   "source": [
    "# Positive indexing\n",
    "language = [\"Python\", \"Swift\", \"C++\", \"C\"]\n",
    "print(language[1])\n",
    "print(language[3])"
   ]
  },
  {
   "cell_type": "code",
   "execution_count": 22,
   "id": "12802f42-2bed-4122-8aa9-0677589b02bb",
   "metadata": {},
   "outputs": [
    {
     "name": "stdout",
     "output_type": "stream",
     "text": [
      "96\n",
      "36\n"
     ]
    }
   ],
   "source": [
    "# Negitive indexing\n",
    "numbers = [51,65,36,34,45,96]\n",
    "print(numbers[-1])\n",
    "print(numbers[-4])"
   ]
  },
  {
   "cell_type": "markdown",
   "id": "9b358a4c-1ffb-49d1-a673-403d77947bba",
   "metadata": {},
   "source": [
    "### Slicing of a List"
   ]
  },
  {
   "cell_type": "markdown",
   "id": "ff484fc5-8e45-4ab1-98e3-882bdb871216",
   "metadata": {},
   "source": [
    "Consider a Python list, in order to access a range of elements in a list, you need to slice a list. One way to do this is to use the simple slicing operator i.e. colon(:)."
   ]
  },
  {
   "cell_type": "markdown",
   "id": "97f9bb8f-289a-402e-8b0d-458622ab0c23",
   "metadata": {},
   "source": [
    "In Python, it is possible to access a portion of a list using the slicing Operator:"
   ]
  },
  {
   "cell_type": "code",
   "execution_count": 41,
   "id": "e9e6e413-67ed-411b-82a7-48f3e7d030ad",
   "metadata": {},
   "outputs": [
    {
     "name": "stdout",
     "output_type": "stream",
     "text": [
      "['d', 'e', 'f', 'g', 'H', 'h', 'i', 'j', 'k']\n",
      "['c', 'd', 'e', 'f', 'g', 'H', 'h', 'i', 'j', 'k', 'l', 'm', 'n', 'o', 'p']\n",
      "['a', 'b', 'c', 'd', 'e', 'f', 'g', 'H', 'h', 'i', 'j', 'k', 'l', 'm']\n",
      "['a', 'b', 'c', 'd', 'e', 'f', 'g', 'H', 'h', 'i', 'j', 'k', 'l', 'm', 'n', 'o', 'p', 'q']\n",
      "['j', 'k', 'l', 'm']\n"
     ]
    }
   ],
   "source": [
    "my_list = ['a','b','c','d','e','f','g','H','h','i','j','k','l','m','n','o','p','q']\n",
    "print(my_list[3:12])\n",
    "print(my_list[2:-1])\n",
    "print(my_list[:14])\n",
    "print(my_list[:])\n",
    "print(my_list[-8:-4])"
   ]
  },
  {
   "cell_type": "markdown",
   "id": "2449118a-2a07-4306-82cf-05ef3f666b82",
   "metadata": {},
   "source": [
    "### List Operations\n"
   ]
  },
  {
   "cell_type": "markdown",
   "id": "1d9c2394-278c-41d8-a70b-a89753997823",
   "metadata": {},
   "source": [
    "List Contain Two types of Operations.\n",
    "\n",
    "1.Concatenation\n",
    "\n",
    "2.Repetition"
   ]
  },
  {
   "cell_type": "markdown",
   "id": "158d02ae-a4f6-45eb-b664-6270204cd135",
   "metadata": {},
   "source": [
    "#### Concatenation"
   ]
  },
  {
   "cell_type": "code",
   "execution_count": 56,
   "id": "29ef27db-5819-4ddd-ab32-30ea58b869cb",
   "metadata": {},
   "outputs": [
    {
     "name": "stdout",
     "output_type": "stream",
     "text": [
      "[1, 2, 3, 6, 93, 35, 14, 14]\n"
     ]
    }
   ],
   "source": [
    "# Adding Two lists \n",
    "a = [1,2,3]\n",
    "b = [6,93,35,14,14]\n",
    "c = a + b\n",
    "print(c)"
   ]
  },
  {
   "cell_type": "markdown",
   "id": "f8b228c9-262d-46eb-9e82-f03c29875520",
   "metadata": {},
   "source": [
    "#### Repetition"
   ]
  },
  {
   "cell_type": "code",
   "execution_count": 54,
   "id": "c448d5b6-7459-4ff2-bee2-58a9418d1183",
   "metadata": {},
   "outputs": [
    {
     "name": "stdout",
     "output_type": "stream",
     "text": [
      "[12, 42, 64, 35, 23, 12, 42, 64, 35, 23, 12, 42, 64, 35, 23, 12, 42, 64, 35, 23, 12, 42, 64, 35, 23, 12, 42, 64, 35, 23]\n"
     ]
    }
   ],
   "source": [
    "# Repete the values at multiple times\n",
    "a = [12,42,64,35,23]\n",
    "b = a * 6\n",
    "print(b)"
   ]
  },
  {
   "cell_type": "markdown",
   "id": "3bf78d5f-7bc8-41b9-9839-a256befbdeb9",
   "metadata": {},
   "source": [
    "### Change List items"
   ]
  },
  {
   "cell_type": "markdown",
   "id": "78a090a7-bbdc-4f93-91dd-941efcb2bc4d",
   "metadata": {},
   "source": [
    "To change the values of a specific item, refer to the index number."
   ]
  },
  {
   "cell_type": "code",
   "execution_count": 60,
   "id": "20e4d39f-ddaf-4712-96ec-e239f8e9554a",
   "metadata": {},
   "outputs": [
    {
     "name": "stdout",
     "output_type": "stream",
     "text": [
      "['apple', 'banana', 'cherry']\n",
      "['Water melon', 'banana', 'cherry']\n"
     ]
    }
   ],
   "source": [
    "list = [\"apple\", \"banana\", \"cherry\"]\n",
    "print(list)\n",
    "list[0] = \"Water melon\"\n",
    "print(list)"
   ]
  },
  {
   "cell_type": "code",
   "execution_count": 70,
   "id": "13983a0b-205c-41ee-823b-11ba286734ac",
   "metadata": {},
   "outputs": [
    {
     "name": "stdout",
     "output_type": "stream",
     "text": [
      "['orange', 'kiwi', 'mango']\n",
      "['orange', 'apple', 'mango']\n"
     ]
    }
   ],
   "source": [
    "names = [\"orange\",\"kiwi\",\"mango\"]\n",
    "print(names)\n",
    "names[1] = \"apple\"\n",
    "print(names)"
   ]
  },
  {
   "cell_type": "markdown",
   "id": "89039836-c075-4124-a935-4e14e2f5fc45",
   "metadata": {},
   "source": [
    "### Change a Range of item Values\n",
    "\n",
    "To Change the values of items within a specific range, define a list with the new values, and refer to the range of index numbers where you want to insert the new vales."
   ]
  },
  {
   "cell_type": "code",
   "execution_count": 73,
   "id": "35e0c349-a8a6-472f-bd39-3608a2c98515",
   "metadata": {},
   "outputs": [
    {
     "name": "stdout",
     "output_type": "stream",
     "text": [
      "['apple', 'blackcurrant', 'watermelon', 'cherry', 'kiwi', 'mango']\n"
     ]
    }
   ],
   "source": [
    "fruits = [\"apple\", \"banana\", \"cherry\", \"orange\", \"kiwi\", \"mango\"]\n",
    "fruits[1:4] = [\"blackcurrant\", \"watermelon\",\"cherry\"]\n",
    "print(fruits)"
   ]
  },
  {
   "cell_type": "markdown",
   "id": "56e11476-3aae-4e53-85c5-e179b9215d64",
   "metadata": {},
   "source": [
    "### List Methods"
   ]
  },
  {
   "cell_type": "markdown",
   "id": "92a33322-0d98-4c0d-a6f2-6bdfc19b5907",
   "metadata": {},
   "source": [
    "Python has a set of built-in methods that you can use on list."
   ]
  },
  {
   "cell_type": "markdown",
   "id": "2533809f-730a-4036-ab8c-c9fb960978bd",
   "metadata": {},
   "source": [
    "\n",
    "Methods   \t         Description\n",
    "\n",
    "\n",
    "append()\t        Adds an element at the end of the list\n",
    "\n",
    "extend()        \tAdd the elements of a list to the end of the current list\n",
    "\n",
    "insert()\t        Adds an element at the specified position\n",
    "\n",
    "remove()         \tRemoves the item with the specified value\n",
    "\n",
    "pop()\t            Remove the element at the specified position\n",
    "\n",
    "index()          \tReturns the index of the first element with the specified value\n",
    "\n",
    "count()\t            Returns the numbetr of elements with the specified value\n",
    "\n",
    "sort()\t            It can sort the list in ascending order\n",
    "\n",
    "reverse()\t        Reverse the order of element in the list"
   ]
  },
  {
   "cell_type": "markdown",
   "id": "4fe9d4c9-b742-4e02-a2c4-ae9f30abab95",
   "metadata": {},
   "source": [
    "#### 1. append( ):"
   ]
  },
  {
   "cell_type": "markdown",
   "id": "40cc01f6-3729-41e0-a64d-a22182f1ef7c",
   "metadata": {},
   "source": [
    "To add an item to the end of the list, use the append() method:"
   ]
  },
  {
   "cell_type": "code",
   "execution_count": 82,
   "id": "9db99940-57c4-4b00-b538-af98515553e9",
   "metadata": {},
   "outputs": [
    {
     "name": "stdout",
     "output_type": "stream",
     "text": [
      "['apple', 'banana', 'cherry', 'mango']\n"
     ]
    }
   ],
   "source": [
    "fruits = [\"apple\", \"banana\", \"cherry\"]\n",
    "fruits.append(\"mango\")\n",
    "print(fruits)"
   ]
  },
  {
   "cell_type": "markdown",
   "id": "1e398a2c-766e-4317-b36a-779f92ccc137",
   "metadata": {},
   "source": [
    "#### 2. extend( ):"
   ]
  },
  {
   "cell_type": "markdown",
   "id": "e3b09d24-6f24-40c0-819e-6a12173db499",
   "metadata": {},
   "source": [
    "To append elements from another list to the current list, use the extend() method."
   ]
  },
  {
   "cell_type": "code",
   "execution_count": 90,
   "id": "288259bc-44da-4026-a284-716b95b7d7e0",
   "metadata": {},
   "outputs": [
    {
     "name": "stdout",
     "output_type": "stream",
     "text": [
      "['apple', 'banana', 'cherry', 'mango', 'pineapple', 'orange']\n"
     ]
    }
   ],
   "source": [
    "fruits = [\"apple\", \"banana\", \"cherry\"]\n",
    "fruits_extend = [\"mango\", \"pineapple\", \"orange\"]\n",
    "fruits.extend(fruits_extend)\n",
    "print(fruits)"
   ]
  },
  {
   "cell_type": "markdown",
   "id": "6e73c710-f857-41ac-b2b2-03d0b148b624",
   "metadata": {},
   "source": [
    "### 3. insert( ):\n",
    "\n",
    "To insert a list item at a specified index or position, use the insert() method.\n"
   ]
  },
  {
   "cell_type": "code",
   "execution_count": 95,
   "id": "b5a6b584-55a6-45e7-ab9a-7b9f0660356c",
   "metadata": {},
   "outputs": [
    {
     "name": "stdout",
     "output_type": "stream",
     "text": [
      "['Python', 'Swift', 'C++', 'jaya', 'C']\n"
     ]
    }
   ],
   "source": [
    "language = [\"Python\", \"Swift\", \"C++\", \"C\"]\n",
    "language.insert(3,\"jaya\")\n",
    "print(language)"
   ]
  },
  {
   "cell_type": "markdown",
   "id": "1d11195e-71ab-4322-af75-60ccbe4a98e4",
   "metadata": {},
   "source": [
    "### 4. remove( ):\n",
    "\n",
    "\n",
    "Removes the first occurance of a value, The remove() method removes the specified item."
   ]
  },
  {
   "cell_type": "code",
   "execution_count": 114,
   "id": "91f6b605-9333-4316-b876-33daceccee54",
   "metadata": {},
   "outputs": [
    {
     "name": "stdout",
     "output_type": "stream",
     "text": [
      "['Python', 'Swift', 'C']\n"
     ]
    }
   ],
   "source": [
    "language = [\"Python\", \"Swift\", \"C++\", \"C\"]\n",
    "language.remove(\"C++\")\n",
    "print(language)"
   ]
  },
  {
   "cell_type": "markdown",
   "id": "cd66ac73-f143-4230-9043-d1fd84614911",
   "metadata": {},
   "source": [
    "### 5. pop( ):\n",
    "\n",
    "\n",
    "The pop() method removes the specified index, Removes and returns an elements at a specified index."
   ]
  },
  {
   "cell_type": "code",
   "execution_count": 121,
   "id": "4908190e-bd74-440d-a123-898f51624bd2",
   "metadata": {},
   "outputs": [
    {
     "name": "stdout",
     "output_type": "stream",
     "text": [
      "['Python', 'Swift', 'C++']\n"
     ]
    }
   ],
   "source": [
    "language = [\"Python\", \"Swift\", \"C++\", \"C\"]\n",
    "language.pop()\n",
    "print(language)"
   ]
  },
  {
   "cell_type": "markdown",
   "id": "ecd04ab5-d68c-4f97-83de-e358e7c608a8",
   "metadata": {},
   "source": [
    "### 6. index( ):\n",
    "Returns the index of the first occurance of a value\n",
    "\n"
   ]
  },
  {
   "cell_type": "code",
   "execution_count": 128,
   "id": "f94248b2-a1c1-48a9-b11b-b0b55fc7495d",
   "metadata": {},
   "outputs": [
    {
     "name": "stdout",
     "output_type": "stream",
     "text": [
      "2\n"
     ]
    }
   ],
   "source": [
    "numbers = [1,46,13,34,13,43,774,74,35,246]\n",
    "index = numbers.index(13)\n",
    "print(index)\n"
   ]
  },
  {
   "cell_type": "markdown",
   "id": "423712bb-0c3d-421c-bd98-2a7a3f141870",
   "metadata": {},
   "source": [
    "### 7. count( ):\n",
    "Returns the number of occurances of a value."
   ]
  },
  {
   "cell_type": "code",
   "execution_count": 131,
   "id": "ba7df092-f4f1-407e-a432-50f11ef7756e",
   "metadata": {},
   "outputs": [
    {
     "name": "stdout",
     "output_type": "stream",
     "text": [
      "2\n"
     ]
    }
   ],
   "source": [
    "number=345,56,98,56,23,65\n",
    "count_56=number.count(56)\n",
    "print(count_56)"
   ]
  },
  {
   "cell_type": "code",
   "execution_count": 137,
   "id": "0505e940-3f98-4cb0-86c7-f307bbc38c7c",
   "metadata": {},
   "outputs": [
    {
     "name": "stdout",
     "output_type": "stream",
     "text": [
      "1\n"
     ]
    }
   ],
   "source": [
    "name=['g','h','d','d','d','e','r','hf','gr','g']\n",
    "name_h=name.count('h')\n",
    "print(name_h)"
   ]
  },
  {
   "cell_type": "markdown",
   "id": "6d80827e-1601-4ba1-ae25-0c7269438463",
   "metadata": {},
   "source": [
    "### 8. sort( ):\n",
    "\n",
    "Sorts the list in a ascending order"
   ]
  },
  {
   "cell_type": "code",
   "execution_count": 142,
   "id": "dbb379e3-3ef3-45fe-a623-270f3ce9c615",
   "metadata": {},
   "outputs": [
    {
     "name": "stdout",
     "output_type": "stream",
     "text": [
      "[12, 23, 24, 34, 45, 65, 343, 7325]\n"
     ]
    }
   ],
   "source": [
    "numbers = [45,23,12,24,65,7325,343,34]\n",
    "numbers.sort()\n",
    "print(numbers)"
   ]
  },
  {
   "cell_type": "markdown",
   "id": "e5c1f0c1-3853-4ceb-8faa-8274ba11daeb",
   "metadata": {},
   "source": [
    "### 9. reverse( ):\n",
    "\n",
    "Reverses the order of elements in the list"
   ]
  },
  {
   "cell_type": "code",
   "execution_count": 145,
   "id": "1d76c538-64ec-472c-92a4-32e11042f438",
   "metadata": {},
   "outputs": [
    {
     "name": "stdout",
     "output_type": "stream",
     "text": [
      "[34, 343, 7325, 65, 24, 12, 23, 45]\n"
     ]
    }
   ],
   "source": [
    "numbers = [45,23,12,24,65,7325,343,34]\n",
    "numbers.reverse()\n",
    "print(numbers)"
   ]
  },
  {
   "cell_type": "markdown",
   "id": "63073298-3e06-47ef-920c-f3d229b26a8a",
   "metadata": {},
   "source": [
    "### other Methods in List\n",
    "\n",
    "Methods\tDescription\n",
    "\r\n",
    "\n",
    "clear()\tRemoves all the elements from the lis\n",
    "\n",
    "\r\n",
    "copy()\tReturns a copy of the li \n",
    "\n",
    "t\r\n",
    "del()\tThe del keyword also removes the specified index"
   ]
  },
  {
   "cell_type": "markdown",
   "id": "417c29e2-782c-4e47-8776-dc3d38da3eba",
   "metadata": {},
   "source": [
    "### clear( ):\n",
    "The clear( ) method empties the list. The list still remains, but it has no content."
   ]
  },
  {
   "cell_type": "code",
   "execution_count": 156,
   "id": "0a5078e0-2772-4f39-a3d4-b37623c09fab",
   "metadata": {},
   "outputs": [
    {
     "name": "stdout",
     "output_type": "stream",
     "text": [
      "[]\n"
     ]
    }
   ],
   "source": [
    "fruits = [\"apple\", \"banana\", \"cherry\"]\n",
    "fruits.clear()\n",
    "print(fruits)\n"
   ]
  },
  {
   "cell_type": "markdown",
   "id": "929843a1-60d2-4899-8f70-d4623faf5c49",
   "metadata": {},
   "source": [
    "### copy( ):\n",
    "Returns a shallow copy of the list."
   ]
  },
  {
   "cell_type": "code",
   "execution_count": 162,
   "id": "97a4daab-979b-490f-8666-6c506e7e9ae9",
   "metadata": {},
   "outputs": [
    {
     "name": "stdout",
     "output_type": "stream",
     "text": [
      "[1, 2, 3, 5]\n"
     ]
    }
   ],
   "source": [
    "number = [1, 2, 3, 5]\n",
    "number2 = number.copy()\n",
    "print(number2)"
   ]
  },
  {
   "cell_type": "markdown",
   "id": "25c9a8c7-b5b0-4b5e-bbc4-7fa94dce8464",
   "metadata": {},
   "source": [
    "### del( ):\n",
    "The del keyword also removes the specified index:"
   ]
  },
  {
   "cell_type": "code",
   "execution_count": 196,
   "id": "0631fbb2-2651-4338-8990-2b3ae1e5d2a8",
   "metadata": {},
   "outputs": [
    {
     "name": "stdout",
     "output_type": "stream",
     "text": [
      "['apple', 'banana']\n"
     ]
    }
   ],
   "source": [
    "fruits = [\"apple\", \"banana\",\"mango\"]\n",
    "del fruits[2]\n",
    "print(fruits)"
   ]
  },
  {
   "cell_type": "markdown",
   "id": "cd08e144-1e74-4553-aef6-651e15190c43",
   "metadata": {},
   "source": [
    "## Python Tuple\n",
    "\n",
    "Python Tuple is a collection of objects separated by commas. In some ways, a tuple is similar to a Python list in terms of indexing, nested objects, and repetition but the main difference between both is Python tuple is immutable, unlike the Python list which is mutable.\n",
    "\n",
    "\n",
    "To create a tuple we will use () operators.\n"
   ]
  },
  {
   "cell_type": "markdown",
   "id": "d06a1e29-e12c-43aa-87fb-f7d7bc1bdc26",
   "metadata": {},
   "source": [
    "### Tuple creation"
   ]
  },
  {
   "cell_type": "code",
   "execution_count": 181,
   "id": "35d45be0-fc7b-4e57-ae89-e519c7f7e766",
   "metadata": {},
   "outputs": [
    {
     "name": "stdout",
     "output_type": "stream",
     "text": [
      "('hero', 786, True, 9.5)\n",
      "<class 'tuple'>\n"
     ]
    }
   ],
   "source": [
    "tuple = (\"hero\",786,True,9.5)\n",
    "print(tuple)\n",
    "print(type(tuple))"
   ]
  },
  {
   "cell_type": "markdown",
   "id": "0ea6de8c-c87e-41e2-8f3a-55bb39aeb315",
   "metadata": {},
   "source": [
    "### Access Tuple items\n",
    "We can access tuple items by referring to the index number and inside square brackets.\n",
    "\n",
    "\n",
    "Tuples support indexing and slicing just like a list. Here in this indexing we will have \n",
    "+ve and -ve indexing.\n",
    "\n",
    "Where the +ve indexing was from LHS to RHS\n",
    "\n",
    "And the -ve indexing from RHS to LHS."
   ]
  },
  {
   "cell_type": "code",
   "execution_count": 177,
   "id": "81430d17-ce34-405c-8662-2a597801cdb6",
   "metadata": {},
   "outputs": [
    {
     "name": "stdout",
     "output_type": "stream",
     "text": [
      "mango\n",
      "banana\n"
     ]
    }
   ],
   "source": [
    "fruits = (\"apple\", \"banana\", \"mango\")\n",
    "print(fruits[-1]) \n",
    "print(fruits[1])  "
   ]
  },
  {
   "cell_type": "markdown",
   "id": "0b421185-3f63-4dbb-8448-78a6c1d8b074",
   "metadata": {},
   "source": [
    "### Slicing of a Tuple\n",
    "We can specify a range of indexes by specifying where to start and where to end the range.\n"
   ]
  },
  {
   "cell_type": "code",
   "execution_count": 187,
   "id": "fc368ebe-c732-43f5-9d19-5635d1a6623c",
   "metadata": {},
   "outputs": [
    {
     "name": "stdout",
     "output_type": "stream",
     "text": [
      "('sravan', 'nandu', 'kumar')\n"
     ]
    }
   ],
   "source": [
    "name=(\"sravan\",\"nandu\",\"kumar\")\n",
    "print(name[0:3])"
   ]
  },
  {
   "cell_type": "markdown",
   "id": "cf2cfa92-646a-45fe-b532-9494e2ed5e1a",
   "metadata": {},
   "source": [
    "### Immutability\n",
    "Once a tuple is created we cannot change its elements or add/remove elements"
   ]
  },
  {
   "cell_type": "code",
   "execution_count": 198,
   "id": "e36f9060-c4c1-4ab1-a0a6-e9fb9402d536",
   "metadata": {},
   "outputs": [
    {
     "ename": "TypeError",
     "evalue": "'tuple' object does not support item assignment",
     "output_type": "error",
     "traceback": [
      "\u001b[1;31m---------------------------------------------------------------------------\u001b[0m",
      "\u001b[1;31mTypeError\u001b[0m                                 Traceback (most recent call last)",
      "Cell \u001b[1;32mIn[198], line 2\u001b[0m\n\u001b[0;32m      1\u001b[0m fruits \u001b[38;5;241m=\u001b[39m (\u001b[38;5;124m\"\u001b[39m\u001b[38;5;124mmango\u001b[39m\u001b[38;5;124m\"\u001b[39m,\u001b[38;5;124m\"\u001b[39m\u001b[38;5;124mkiwi\u001b[39m\u001b[38;5;124m\"\u001b[39m,\u001b[38;5;124m\"\u001b[39m\u001b[38;5;124mapple\u001b[39m\u001b[38;5;124m\"\u001b[39m)\n\u001b[1;32m----> 2\u001b[0m fruits[\u001b[38;5;241m1\u001b[39m] \u001b[38;5;241m=\u001b[39m \u001b[38;5;124m\"\u001b[39m\u001b[38;5;124morange\u001b[39m\u001b[38;5;124m\"\u001b[39m\n\u001b[0;32m      3\u001b[0m \u001b[38;5;28mprint\u001b[39m(fruits)\n",
      "\u001b[1;31mTypeError\u001b[0m: 'tuple' object does not support item assignment"
     ]
    }
   ],
   "source": [
    "fruits = (\"mango\",\"kiwi\",\"apple\")\n",
    "fruits[1] = \"orange\"\n",
    "print(fruits)"
   ]
  },
  {
   "cell_type": "markdown",
   "id": "2833061e-84ec-471d-8c82-10c135a69c31",
   "metadata": {},
   "source": [
    "### Tuple operations\n",
    "\n",
    "Same as a list we will have operations on tuple also.\n",
    "\n",
    "1.Concatenation\n",
    "\n",
    "2.Repetation"
   ]
  },
  {
   "cell_type": "code",
   "execution_count": 202,
   "id": "7fc0a91f-e9f6-4b54-a493-e6366051964c",
   "metadata": {},
   "outputs": [
    {
     "name": "stdout",
     "output_type": "stream",
     "text": [
      "(1, 2, 3, 132, 42, 23.1, 42)\n",
      "(23, 42, 324, 66, 57, 23, 42, 324, 66, 57, 23, 42, 324, 66, 57)\n"
     ]
    }
   ],
   "source": [
    "# Example program on Concatenation\n",
    "num1 = (132,42,23.1,42)\n",
    "num2 = (1,2,3)\n",
    "print(num2 + num1)\n",
    "\n",
    "# Example program on Repetiton\n",
    "num1 = (23,42,324,66,57)\n",
    "print(num1 * 3)"
   ]
  },
  {
   "cell_type": "markdown",
   "id": "89d4f039-1320-464b-91fa-b1a5b0af99f7",
   "metadata": {},
   "source": [
    "### Tuple Methods\n",
    "\n",
    "Tuple have limited methods compared to list due to their immutability.\n",
    "\n",
    "It has two built-in methods that we can use on tuples."
   ]
  },
  {
   "cell_type": "markdown",
   "id": "6362c6f0-97ff-4636-8cc6-9cf879de86a1",
   "metadata": {},
   "source": [
    "\n",
    "### Methods\t Description\n",
    "\n",
    "#### count()\tReturns the number of times a specified value occurs in a tuple\n",
    "\n",
    "#### index()\tSearches the tuple for a specified value and return the position of where it was found"
   ]
  },
  {
   "cell_type": "markdown",
   "id": "42f8973a-ae6a-4bbd-81ce-ee51b5c06c64",
   "metadata": {},
   "source": [
    "### count( ):\n",
    "\n",
    "Returns the number of occurances of a specified value\n",
    "\n",
    "The count() method returns the number of times a specified value appears in the tuple."
   ]
  },
  {
   "cell_type": "code",
   "execution_count": 219,
   "id": "1a98e0c9-f28a-4d3c-a20d-9976c045d4b2",
   "metadata": {},
   "outputs": [
    {
     "name": "stdout",
     "output_type": "stream",
     "text": [
      "3\n"
     ]
    }
   ],
   "source": [
    "num = (8,3,4,1,64,21,1,24,1)\n",
    "\n",
    "num1 =num.count(1)\n",
    "\n",
    "print(num1)"
   ]
  },
  {
   "cell_type": "markdown",
   "id": "506f2030-105c-4034-8bd5-f51448d807de",
   "metadata": {},
   "source": [
    "### index( ):\n",
    "\n",
    "The index() method finds the first occurrence of the specified value.\n",
    "\n",
    "The index() method raises an exception if the value is not found.\n",
    "\n",
    "Returns the index of the first occurance of a specified value."
   ]
  },
  {
   "cell_type": "code",
   "execution_count": 227,
   "id": "c8f3b69b-998f-4ae4-a59e-205579606073",
   "metadata": {},
   "outputs": [
    {
     "name": "stdout",
     "output_type": "stream",
     "text": [
      "3\n"
     ]
    }
   ],
   "source": [
    "num = (8,3,4,1,64,21,1,24,1)\n",
    "\n",
    "num1 =num.index(1)\n",
    "\n",
    "print(num1)"
   ]
  },
  {
   "cell_type": "code",
   "execution_count": 237,
   "id": "d83316ce-7de3-4e41-9ea8-819d3076f491",
   "metadata": {},
   "outputs": [
    {
     "name": "stdout",
     "output_type": "stream",
     "text": [
      "1\n"
     ]
    }
   ],
   "source": [
    "numbers = (1,3,4,5,5,7,46,3)\n",
    "index = numbers.index(3)\n",
    "print(index)"
   ]
  },
  {
   "cell_type": "code",
   "execution_count": null,
   "id": "c11c01af-e376-4081-812d-73106439f0ca",
   "metadata": {},
   "outputs": [],
   "source": []
  }
 ],
 "metadata": {
  "kernelspec": {
   "display_name": "Python 3 (ipykernel)",
   "language": "python",
   "name": "python3"
  },
  "language_info": {
   "codemirror_mode": {
    "name": "ipython",
    "version": 3
   },
   "file_extension": ".py",
   "mimetype": "text/x-python",
   "name": "python",
   "nbconvert_exporter": "python",
   "pygments_lexer": "ipython3",
   "version": "3.12.4"
  }
 },
 "nbformat": 4,
 "nbformat_minor": 5
}
