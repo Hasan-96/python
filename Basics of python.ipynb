{
 "cells": [
  {
   "cell_type": "markdown",
   "id": "9b841c8b-d181-461e-9f65-61ee673e5033",
   "metadata": {},
   "source": [
    "### Python\n",
    "Python is a popular programming language. It was created by Guido van Rossum, and released in 1991.\n",
    "Python has a simple syntax similar to the English language.\n",
    "Python was designed for readability, and has some similarities to the English language with influence from mathematics."
   ]
  },
  {
   "cell_type": "code",
   "execution_count": 1,
   "id": "53bb2e29-f6f5-4ee2-bbde-77920b901220",
   "metadata": {},
   "outputs": [
    {
     "name": "stdout",
     "output_type": "stream",
     "text": [
      "3.12.4 | packaged by Anaconda, Inc. | (main, Jun 18 2024, 15:03:56) [MSC v.1929 64 bit (AMD64)]\n"
     ]
    }
   ],
   "source": [
    "import sys\n",
    "print(sys.version)"
   ]
  },
  {
   "cell_type": "code",
   "execution_count": 3,
   "id": "defa1e85-3807-43f3-8775-859bc2b89372",
   "metadata": {},
   "outputs": [
    {
     "name": "stdout",
     "output_type": "stream",
     "text": [
      "hello world\n"
     ]
    }
   ],
   "source": [
    "print(\"hello world\")"
   ]
  },
  {
   "cell_type": "markdown",
   "id": "d5b92b81-8ec2-4c15-8628-daadbe0a39c2",
   "metadata": {},
   "source": [
    "### Python Indentation"
   ]
  },
  {
   "cell_type": "markdown",
   "id": "32102412-2587-48dd-81fb-d751f828c30c",
   "metadata": {},
   "source": [
    "Indentation refers to the spaces at the beginning of a code line.\r\n",
    "\r\n",
    "Where in other programming languages the indentation in code is for readability only, the indentation in Python is very important.\r\n",
    "\r\n",
    "Python uses indentation to indicate a block of codecode"
   ]
  },
  {
   "cell_type": "markdown",
   "id": "1057f8cd-817c-439d-8515-52617ca2aa14",
   "metadata": {},
   "source": [
    "### Example"
   ]
  },
  {
   "cell_type": "code",
   "execution_count": 16,
   "id": "a03b331d-45eb-43e3-9c13-1667d726c380",
   "metadata": {},
   "outputs": [
    {
     "name": "stdout",
     "output_type": "stream",
     "text": [
      "10 is  greater than 2\n"
     ]
    }
   ],
   "source": [
    "if 10>2:\n",
    "    print(\"10 is  greater than 2\")"
   ]
  },
  {
   "cell_type": "code",
   "execution_count": 18,
   "id": "75af7882-35c7-46b5-8297-8d614961151c",
   "metadata": {},
   "outputs": [
    {
     "ename": "IndentationError",
     "evalue": "expected an indented block after 'if' statement on line 1 (3720034261.py, line 2)",
     "output_type": "error",
     "traceback": [
      "\u001b[1;36m  Cell \u001b[1;32mIn[18], line 2\u001b[1;36m\u001b[0m\n\u001b[1;33m    print(\"10 is  greater than 2\")\u001b[0m\n\u001b[1;37m    ^\u001b[0m\n\u001b[1;31mIndentationError\u001b[0m\u001b[1;31m:\u001b[0m expected an indented block after 'if' statement on line 1\n"
     ]
    }
   ],
   "source": [
    "if 10>2:\n",
    "print(\"10 is  greater than 2\")"
   ]
  },
  {
   "cell_type": "markdown",
   "id": "c3f69666-cecb-442a-b2ce-9a878de8a6c1",
   "metadata": {},
   "source": [
    "### Python Comment"
   ]
  },
  {
   "cell_type": "markdown",
   "id": "d108e8e3-17b7-4228-ba38-2c3cc5c38bba",
   "metadata": {},
   "source": [
    "The most straightforward way to comment in Python is by using the # symbol, which comments out everything that follows it on the line. "
   ]
  },
  {
   "cell_type": "code",
   "execution_count": 26,
   "id": "cd289ff0-4156-4195-88ad-cdd1c31fc0fb",
   "metadata": {},
   "outputs": [],
   "source": [
    "# def example_function(name):\n",
    "# This function prints \"Hello \" and the input name\n",
    "# print(\"Hello\", name)\n"
   ]
  },
  {
   "cell_type": "markdown",
   "id": "50744d1f-4e49-41a1-b9bd-e7f4622ad7c2",
   "metadata": {},
   "source": [
    "### Python Keyword"
   ]
  },
  {
   "cell_type": "markdown",
   "id": "942dd05c-82bc-46f3-b98d-cf94d78a8aa0",
   "metadata": {},
   "source": [
    "A Python keyword is a word that serves a specific function in Python. It is limited to one single function and it can not be set as a variable name, a function name, or the value of any other identifier. The purpose of the keyword is to define the syntax of the code.\n",
    "### Rules for Keywords in Python\r\n",
    "Python keywords cannot be used as identifiers.\r\n",
    "All the keywords in Python should be in lowercase except True and False."
   ]
  },
  {
   "cell_type": "code",
   "execution_count": 42,
   "id": "1f1cf65b-04bd-4df5-8346-85e297d2c82b",
   "metadata": {},
   "outputs": [
    {
     "name": "stdout",
     "output_type": "stream",
     "text": [
      "['False', 'None', 'True', 'and', 'as', 'assert', 'async', 'await', 'break', 'class', 'continue', 'def', 'del', 'elif', 'else', 'except', 'finally', 'for', 'from', 'global', 'if', 'import', 'in', 'is', 'lambda', 'nonlocal', 'not', 'or', 'pass', 'raise', 'return', 'try', 'while', 'with', 'yield']\n"
     ]
    },
    {
     "data": {
      "text/plain": [
       "35"
      ]
     },
     "execution_count": 42,
     "metadata": {},
     "output_type": "execute_result"
    }
   ],
   "source": [
    "import keyword\n",
    "python_keywords = keyword.kwlist\n",
    "print(python_keywords)\n",
    "len(python_keywords)"
   ]
  },
  {
   "cell_type": "code",
   "execution_count": null,
   "id": "748e9e90-2542-47dc-ac66-8af3f58e0b6b",
   "metadata": {},
   "outputs": [],
   "source": []
  }
 ],
 "metadata": {
  "kernelspec": {
   "display_name": "Python 3 (ipykernel)",
   "language": "python",
   "name": "python3"
  },
  "language_info": {
   "codemirror_mode": {
    "name": "ipython",
    "version": 3
   },
   "file_extension": ".py",
   "mimetype": "text/x-python",
   "name": "python",
   "nbconvert_exporter": "python",
   "pygments_lexer": "ipython3",
   "version": "3.12.4"
  }
 },
 "nbformat": 4,
 "nbformat_minor": 5
}
