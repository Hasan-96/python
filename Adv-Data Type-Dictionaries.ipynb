{
 "cells": [
  {
   "cell_type": "markdown",
   "id": "6900c9e9-f623-4f34-9598-943b517a1ccc",
   "metadata": {},
   "source": [
    "## Python Dictionaries\n",
    "\n",
    "Definition and Structure:\n",
    "\n",
    "Dictionaries in Python are unordered collections of key-value pairs.\n",
    "\n",
    "Each key-value pair is separated by a colon (:), and pairs are separated by commas (,).\n",
    "\n",
    "Dictionaries are defined using curly braces {}."
   ]
  },
  {
   "cell_type": "markdown",
   "id": "8040c895-bfc5-4321-845a-80f73cbe435c",
   "metadata": {},
   "source": [
    "### Keys and Values:\n",
    "\n",
    "Keys in a dictionary must be immutable types (e.g., strings, numbers, tuples) and are unique within a dictionary.\n",
    "\n",
    "Values can be of any data type and can be duplicated.\n",
    "\n",
    "Example: In the dictionary {\"name\": \"Alice\", \"age\": 30}, \"name\" and \"age\" are keys, while \"Alice\" and 30 are their corresponding values."
   ]
  },
  {
   "cell_type": "markdown",
   "id": "72824f93-495c-47ab-8131-6bccccbc91f4",
   "metadata": {},
   "source": [
    "### Creating a Dictionary\n",
    "\n",
    "To create a dictionary we have a collection of key-value pairs.\n",
    "\n",
    "It's defined by curly braces {} and each key-value pair is separated by a colon:"
   ]
  },
  {
   "cell_type": "markdown",
   "id": "404f79d3-a44c-4ada-8165-b946553636d3",
   "metadata": {},
   "source": [
    "### Syntax"
   ]
  },
  {
   "cell_type": "code",
   "execution_count": 11,
   "id": "12a13a99-14dd-4f30-b4fa-c60de90e791d",
   "metadata": {},
   "outputs": [],
   "source": [
    "my_dict = {\"key1\": \"value1\", \"key2\": \"value2\"}"
   ]
  },
  {
   "cell_type": "markdown",
   "id": "41459f61-3eb2-4c8e-b449-81d5c64e51ad",
   "metadata": {},
   "source": [
    "#### Example :"
   ]
  },
  {
   "cell_type": "code",
   "execution_count": 17,
   "id": "4682aeed-c413-42d2-8878-724e37f89457",
   "metadata": {},
   "outputs": [
    {
     "name": "stdout",
     "output_type": "stream",
     "text": [
      "{'name': 'hasan', 'age': 22, 'grade': 'A'}\n",
      "{'name': 'hasan', 'age': 22, 'grade': [80, 90, 95]}\n"
     ]
    }
   ],
   "source": [
    "# Dictionary with key-value pairs\n",
    "student = {'name' : 'hasan', 'age' : 22,'grade' : 'A'}\n",
    "print(student)\n",
    "# Dictionary with mixed data types\n",
    "mixed_dict={\"name\" :'hasan', \"age\" :22,\"grade\" :[80,90,95]}\n",
    "print(mixed_dict)"
   ]
  },
  {
   "cell_type": "markdown",
   "id": "39d52033-9eda-4e60-9465-6a226a2fa20d",
   "metadata": {},
   "source": [
    "### ACCESSING VALUES :\n",
    "\n",
    "We can access the values in a dictionary using the keys"
   ]
  },
  {
   "cell_type": "markdown",
   "id": "21204de0-f73e-424f-8b5b-806b777056ba",
   "metadata": {},
   "source": [
    "#### Example :"
   ]
  },
  {
   "cell_type": "code",
   "execution_count": 22,
   "id": "e1ca3718-a6db-4708-a01d-d18a96526233",
   "metadata": {},
   "outputs": [
    {
     "name": "stdout",
     "output_type": "stream",
     "text": [
      "{'name': 'hasan', 'age': 22, 'grade': 'A+'}\n",
      "hasan\n",
      "[80, 90, 95]\n"
     ]
    }
   ],
   "source": [
    "student ={\"name\" : 'hasan',\"age\" : 22,\"grade\" :'A+'}\n",
    "print(student)\n",
    "mixed_dict={\"name\" : 'hasan',\"age\" :23,\"grade\" :[80,90,95]}\n",
    "print(student[\"name\"])\n",
    "print(mixed_dict[\"grade\"])"
   ]
  },
  {
   "cell_type": "markdown",
   "id": "b287ab5e-32cf-4faf-8af6-66c6d4e56c72",
   "metadata": {},
   "source": [
    "### Modifying and Adding Values :\n",
    "\n",
    "Dictionaries are Mutable, so you can modify existing entries or add new ones."
   ]
  },
  {
   "cell_type": "code",
   "execution_count": 27,
   "id": "5112a567-f005-4c5c-910e-6f09a1c93e41",
   "metadata": {},
   "outputs": [
    {
     "name": "stdout",
     "output_type": "stream",
     "text": [
      "{'name': 'hasan', 'age': 20, 'grade': 'A+'}\n",
      "{'name': 'hasan', 'age': 20, 'grade': 'A+', 'gender': 'male', 'qualification': 'B.Tech'}\n"
     ]
    }
   ],
   "source": [
    "#modify an entry\n",
    "student[\"age\"]=20\n",
    "print(student)\n",
    "\n",
    "#adding a new entry\n",
    "student[\"gender\"]='male'\n",
    "student[\"qualification\"]='B.Tech'\n",
    "print(student)"
   ]
  },
  {
   "cell_type": "markdown",
   "id": "e02f8cb4-111e-498a-b882-c5af767780cf",
   "metadata": {},
   "source": [
    "### Dictionary Methods:\n",
    "\n",
    "Python offers a variety of methods to manipulate dictionaries efficiently. Here's a breakdown of some common ones:"
   ]
  },
  {
   "cell_type": "markdown",
   "id": "7c5754f1-feb8-4d92-982c-525d33034218",
   "metadata": {},
   "source": [
    "### 1.clear()\t\n",
    "\n",
    "Removes all the elements from the dictionary\n",
    "\n",
    "The clear() method removes all the elements from a dictionary."
   ]
  },
  {
   "cell_type": "code",
   "execution_count": 33,
   "id": "6c1e77ae-5e66-4511-a18a-0d52259e0e90",
   "metadata": {},
   "outputs": [
    {
     "name": "stdout",
     "output_type": "stream",
     "text": [
      "{}\n"
     ]
    }
   ],
   "source": [
    "bike = {\n",
    "  \"brand\": \"bullet\",\n",
    "  \"model\": \"350cc\",\n",
    "  \"year\": 1996\n",
    "}\n",
    "\n",
    "bike.clear()\n",
    "\n",
    "print(bike)"
   ]
  },
  {
   "cell_type": "markdown",
   "id": "f99580fe-6e89-429b-8fcf-e007c4b3635c",
   "metadata": {},
   "source": [
    "### 2.copy()\t\n",
    "\n",
    "Returns a copy of the dictionary\n",
    "\n",
    "The copy() method returns a copy of the specified dictionary."
   ]
  },
  {
   "cell_type": "code",
   "execution_count": 36,
   "id": "b67fc912-dca0-489d-9e03-c4b73a23abeb",
   "metadata": {},
   "outputs": [
    {
     "name": "stdout",
     "output_type": "stream",
     "text": [
      "{'brand': 'bullet', 'model': '350cc', 'year': 1996}\n"
     ]
    }
   ],
   "source": [
    "bike = {\n",
    "  \"brand\": \"bullet\",\n",
    "  \"model\": \"350cc\",\n",
    "  \"year\": 1996\n",
    "}\n",
    "\n",
    "bike.copy()\n",
    "\n",
    "print(bike)"
   ]
  },
  {
   "cell_type": "markdown",
   "id": "5a4e15a8-050d-4d44-bb66-0bfae77bdd35",
   "metadata": {},
   "source": [
    "### 3.fromkeys()\t\n",
    "\n",
    "The fromkeys() method returns a dictionary with the specified keys and the specified value."
   ]
  },
  {
   "cell_type": "code",
   "execution_count": 46,
   "id": "8d77d8ed-e084-44d1-bfbf-73d04ecb809f",
   "metadata": {},
   "outputs": [
    {
     "name": "stdout",
     "output_type": "stream",
     "text": [
      "{'key1': 'hasan', 'key2': 'hasan', 'key3': 'hasan'}\n"
     ]
    }
   ],
   "source": [
    "x = ('key1', 'key2', 'key3')\n",
    "y = \"hasan\"\n",
    "\n",
    "thisdict = dict.fromkeys(x, y)\n",
    "\n",
    "print(thisdict)"
   ]
  },
  {
   "cell_type": "markdown",
   "id": "342418de-fdec-4706-96e1-625249ab4455",
   "metadata": {},
   "source": [
    "### 4.get()\t\n",
    "\n",
    "Returns the value of the specified key\n"
   ]
  },
  {
   "cell_type": "code",
   "execution_count": 58,
   "id": "19aab3fb-a860-4658-bff0-1e56614d859c",
   "metadata": {},
   "outputs": [
    {
     "name": "stdout",
     "output_type": "stream",
     "text": [
      "350cc\n"
     ]
    }
   ],
   "source": [
    "bike = {\n",
    "  \"brand\": \"bullet\",\n",
    "  \"model\": \"350cc\",\n",
    "  \"year\": 1996\n",
    "}\n",
    "\n",
    "x=bike.get(\"model\")\n",
    "\n",
    "print(x)"
   ]
  },
  {
   "cell_type": "markdown",
   "id": "bc9cb77d-2180-44aa-8010-2810e2cd8730",
   "metadata": {},
   "source": [
    "### 5.items()\t\n",
    "\n",
    "Returns a list containing a tuple for each key value pair\n",
    "\n",
    "The items() method returns a view object. The view object contains the key-value pairs of the dictionary, as tuples in a list.\r\n",
    "\r\n",
    "The view object will reflect any changes done to the dictionary, see example below."
   ]
  },
  {
   "cell_type": "code",
   "execution_count": 63,
   "id": "3a80a34c-9767-485a-9e17-9fe41aaa2873",
   "metadata": {},
   "outputs": [
    {
     "name": "stdout",
     "output_type": "stream",
     "text": [
      "dict_items([('brand', 'bullet'), ('model', '350cc'), ('year', 1996)])\n"
     ]
    }
   ],
   "source": [
    "bike = {\n",
    "  \"brand\": \"bullet\",\n",
    "  \"model\": \"350cc\",\n",
    "  \"year\": 1996\n",
    "}\n",
    "\n",
    "x=bike.items()\n",
    "\n",
    "print(x)"
   ]
  },
  {
   "cell_type": "markdown",
   "id": "d2f3d576-c9ea-420c-a51f-ea0a5697a52e",
   "metadata": {},
   "source": [
    "### 6.keys()\t\n",
    "\n",
    "Returns a list containing the dictionary's keys\n",
    "\n",
    "The keys() method returns a view object. The view object contains the keys of the dictionary, as a list.\r\n",
    "\r\n",
    "The view object will reflect any changes done to the dictionary, see example below."
   ]
  },
  {
   "cell_type": "code",
   "execution_count": 68,
   "id": "d422651b-0155-4812-ab4d-95d1d827373a",
   "metadata": {},
   "outputs": [
    {
     "name": "stdout",
     "output_type": "stream",
     "text": [
      "dict_keys(['brand', 'model', 'year'])\n"
     ]
    }
   ],
   "source": [
    "bike = {\n",
    "  \"brand\": \"bullet\",\n",
    "  \"model\": \"350cc\",\n",
    "  \"year\": 1996\n",
    "}\n",
    "\n",
    "x=bike.keys()\n",
    "\n",
    "print(x)"
   ]
  },
  {
   "cell_type": "markdown",
   "id": "5d3e9795-df20-4176-b686-14b11774578c",
   "metadata": {},
   "source": [
    "### 7.pop()\t\n",
    "\n",
    "Removes the element with the specified key\n",
    "\n",
    "The pop() method removes the specified item from the dictionary.\n",
    "\n",
    "The value of the removed item is the return value of the pop() method, see example below.\n",
    "\n"
   ]
  },
  {
   "cell_type": "code",
   "execution_count": 76,
   "id": "4ed8f789-f777-4fa3-835c-fa9b25c8a404",
   "metadata": {},
   "outputs": [
    {
     "name": "stdout",
     "output_type": "stream",
     "text": [
      "{'brand': 'Ford', 'year': 1964}\n"
     ]
    }
   ],
   "source": [
    "car = {\n",
    "  \"brand\": \"Ford\",\n",
    "  \"model\": \"Mustang\",\n",
    "  \"year\": 1964\n",
    "}\n",
    "\n",
    "car.pop(\"model\")\n",
    "\n",
    "print(car)"
   ]
  },
  {
   "cell_type": "markdown",
   "id": "add596b2-fba5-41e2-ba74-74cdd55187fd",
   "metadata": {},
   "source": [
    "### 8.popitem()\t\n",
    "\n",
    "Removes the last inserted key-value pair\n",
    "\n",
    "The popitem() method removes the item that was last inserted into the dictionary. In versions before 3.7, the popitem() method removes a random item.\r\n",
    "\r\n",
    "The removed item is the return value of the popitem() method, as a tuple, see example below."
   ]
  },
  {
   "cell_type": "code",
   "execution_count": 87,
   "id": "2bc60253-0aa3-4818-9478-468f2fdd8a81",
   "metadata": {},
   "outputs": [
    {
     "name": "stdout",
     "output_type": "stream",
     "text": [
      "{'name': 'hasan', 'age': '22'}\n"
     ]
    }
   ],
   "source": [
    "dic = {\n",
    "  \"name\": \"hasan\",\n",
    "  \"age\": \"22\",\n",
    "  \"year\": 2001\n",
    "}\n",
    "\n",
    "dic.popitem()\n",
    "\n",
    "print(dic)"
   ]
  },
  {
   "cell_type": "markdown",
   "id": "0ef41e19-17a2-4d8e-8212-de1ee1ee780a",
   "metadata": {},
   "source": [
    "### 9.setdefault()\t\n",
    "\n",
    "Returns the value of the specified key. If the key does not exist: insert the key, with the specified value"
   ]
  },
  {
   "cell_type": "code",
   "execution_count": 96,
   "id": "6df58e96-aa4f-440f-9cd2-d0eb336b7f93",
   "metadata": {},
   "outputs": [
    {
     "name": "stdout",
     "output_type": "stream",
     "text": [
      "{'name': 'hasan', 'age': '22', 'year': 2001}\n"
     ]
    }
   ],
   "source": [
    "dic = {\n",
    "  \"name\": \"hasan\",\n",
    "  \"age\": \"22\",\n",
    "  \"year\": 2001\n",
    "}\n",
    "dic.setdefault(\"year\",2001)\n",
    "print(dic)"
   ]
  },
  {
   "cell_type": "markdown",
   "id": "942106bb-92ba-4a8d-9d28-016b444f347e",
   "metadata": {},
   "source": [
    "### 10.update()\t\n",
    "\n",
    "Updates the dictionary with the specified key-value pairs"
   ]
  },
  {
   "cell_type": "code",
   "execution_count": 119,
   "id": "37dde3a7-253b-41e2-be53-df5a072901d3",
   "metadata": {},
   "outputs": [
    {
     "name": "stdout",
     "output_type": "stream",
     "text": [
      "{'Brand': 'bullet', 'Model': '350cc', 'year': 1996, 'colour': 'blue'}\n"
     ]
    }
   ],
   "source": [
    "bike={\n",
    "    \"Brand\" : \"bullet\",\n",
    "    \"Model\" : \"350cc\",\n",
    "    \"year\" : 1996\n",
    "}\n",
    "bike.update({\"colour\" : \"blue\"})\n",
    "print(bike)"
   ]
  },
  {
   "cell_type": "markdown",
   "id": "8b2ab07d-3bec-4c8e-8ae1-a18729e30611",
   "metadata": {},
   "source": [
    "### 11.values()\t\n",
    "\n",
    "Returns a list of all the values in the dictionary\n",
    "\n",
    "The values() method returns a view object. The view object contains the values of the dictionary, as a list."
   ]
  },
  {
   "cell_type": "code",
   "execution_count": 126,
   "id": "9a40766c-cd17-4224-bb82-ecc70b832329",
   "metadata": {},
   "outputs": [
    {
     "data": {
      "text/plain": [
       "dict_values(['hasan', 22, 2001])"
      ]
     },
     "execution_count": 126,
     "metadata": {},
     "output_type": "execute_result"
    }
   ],
   "source": [
    "dic={\n",
    "    \"name\" : \"hasan\",\n",
    "    \"age\" : 22,\n",
    "    \"year\" : 2001\n",
    "}\n",
    "dic.values()"
   ]
  },
  {
   "cell_type": "code",
   "execution_count": null,
   "id": "471998a9-d0c9-4a86-8412-1efe18fbd6f1",
   "metadata": {},
   "outputs": [],
   "source": []
  }
 ],
 "metadata": {
  "kernelspec": {
   "display_name": "Python 3 (ipykernel)",
   "language": "python",
   "name": "python3"
  },
  "language_info": {
   "codemirror_mode": {
    "name": "ipython",
    "version": 3
   },
   "file_extension": ".py",
   "mimetype": "text/x-python",
   "name": "python",
   "nbconvert_exporter": "python",
   "pygments_lexer": "ipython3",
   "version": "3.12.4"
  }
 },
 "nbformat": 4,
 "nbformat_minor": 5
}
