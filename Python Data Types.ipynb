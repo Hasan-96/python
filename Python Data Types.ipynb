{
 "cells": [
  {
   "cell_type": "markdown",
   "id": "b224fc0f-7506-41cb-80f2-66c986e89262",
   "metadata": {},
   "source": [
    "### Python Data Types"
   ]
  },
  {
   "cell_type": "markdown",
   "id": "33960501-7d50-4424-82e1-eea3af0af9cd",
   "metadata": {},
   "source": [
    "#### Numeric Data Types in Python\n",
    "The numeric data type in Python represents the data that has a numeric value. A numeric value can be an integer, a floating number, or even a complex number. These values are defined as Python int, Python float, and Python complex classes in Python.\n",
    "\n",
    "Integers – This value is represented by int class. It contains positive or negative whole numbers (without fractions or decimals). In Python, there is no limit to how long an integer value can be.\n",
    "\n",
    "\n",
    "Float – This value is represented by the float class. It is a real number with a floating-point representation. It is specified by a decimal point. Optionally, the character e or E followed by a positive or negative integer may be appended to specify scientific notation.\n",
    "\n",
    "\n",
    "Complex Numbers – A complex number is represented by a complex class. It is specified as (real part) + (imaginary part)j. For example – 2+3j"
   ]
  },
  {
   "cell_type": "markdown",
   "id": "59da129b-525f-40e3-9adf-c19c4808b6ed",
   "metadata": {},
   "source": [
    "##### Integers"
   ]
  },
  {
   "cell_type": "code",
   "execution_count": 14,
   "id": "b8024519-8287-4e3e-904b-32b24d63ad21",
   "metadata": {},
   "outputs": [
    {
     "name": "stdout",
     "output_type": "stream",
     "text": [
      "<class 'int'>\n",
      "<class 'int'>\n",
      "<class 'int'>\n",
      "<class 'int'>\n",
      "<class 'int'>\n"
     ]
    }
   ],
   "source": [
    "a=5\n",
    "b=6\n",
    "c=7\n",
    "d=13\n",
    "f=66\n",
    "print(type(a))\n",
    "print(type(b))\n",
    "print(type(c))\n",
    "print(type(d))\n",
    "print(type(f))     "
   ]
  },
  {
   "cell_type": "markdown",
   "id": "4f6a14c3-736f-4e61-8f67-2b812ede6b60",
   "metadata": {},
   "source": [
    "##### float"
   ]
  },
  {
   "cell_type": "code",
   "execution_count": 17,
   "id": "fa11b0d0-b7d5-460e-ac34-5db5a4a256e4",
   "metadata": {},
   "outputs": [
    {
     "name": "stdout",
     "output_type": "stream",
     "text": [
      "<class 'float'>\n",
      "<class 'float'>\n",
      "<class 'float'>\n",
      "<class 'float'>\n",
      "<class 'float'>\n"
     ]
    }
   ],
   "source": [
    "a=1.2\n",
    "b=6.9\n",
    "c=7.5\n",
    "d=13.00\n",
    "f=66.98\n",
    "print(type(a))\n",
    "print(type(b))\n",
    "print(type(c))\n",
    "print(type(d))\n",
    "print(type(f))     "
   ]
  },
  {
   "cell_type": "markdown",
   "id": "c4133b2b-2db7-419b-b3ca-70575438471f",
   "metadata": {},
   "source": [
    "##### Complex"
   ]
  },
  {
   "cell_type": "code",
   "execution_count": 20,
   "id": "7e7a3c4c-8098-4ecc-9afa-5736e4d42417",
   "metadata": {},
   "outputs": [
    {
     "name": "stdout",
     "output_type": "stream",
     "text": [
      "<class 'complex'>\n",
      "<class 'complex'>\n",
      "<class 'complex'>\n",
      "<class 'complex'>\n",
      "<class 'complex'>\n"
     ]
    }
   ],
   "source": [
    "a=1j\n",
    "b=6j\n",
    "c=7j\n",
    "d=19j\n",
    "f=66j\n",
    "print(type(a))\n",
    "print(type(b))\n",
    "print(type(c))\n",
    "print(type(d))\n",
    "print(type(f))     "
   ]
  },
  {
   "cell_type": "markdown",
   "id": "07d2f60c-d621-412c-8a11-27360bdf15ef",
   "metadata": {},
   "source": [
    "####  Int to Float Convertion"
   ]
  },
  {
   "cell_type": "code",
   "execution_count": 49,
   "id": "951813fc-6e41-4079-8d25-daadde8dc1d5",
   "metadata": {},
   "outputs": [
    {
     "name": "stdout",
     "output_type": "stream",
     "text": [
      "5.0 <class 'int'>\n",
      "66.0 <class 'int'>\n",
      "99.0 <class 'int'>\n",
      "976.0 <class 'int'>\n",
      "45.0 <class 'int'>\n"
     ]
    }
   ],
   "source": [
    "a=5\n",
    "b=66\n",
    "c=99\n",
    "d=976\n",
    "v=45\n",
    "print(float(a),type(a))\n",
    "print(float(b),type(b))\n",
    "print(float(c),type(c))\n",
    "print(float(d),type(d))\n",
    "print(float(v),type(v))"
   ]
  },
  {
   "cell_type": "markdown",
   "id": "87c33271-6ad8-43c1-84d9-32e599a8513c",
   "metadata": {},
   "source": [
    "####  Int to Complex"
   ]
  },
  {
   "cell_type": "code",
   "execution_count": 1,
   "id": "aa2120d9-d1db-4275-9d33-67cddc99b3a9",
   "metadata": {},
   "outputs": [
    {
     "name": "stdout",
     "output_type": "stream",
     "text": [
      "(5+0j) <class 'int'>\n",
      "(66+0j) <class 'int'>\n",
      "(99+0j) <class 'int'>\n",
      "(976+0j) <class 'int'>\n",
      "(45+0j) <class 'int'>\n"
     ]
    }
   ],
   "source": [
    "a=5\n",
    "b=66\n",
    "c=99\n",
    "d=976\n",
    "v=45\n",
    "print(complex(a),type(a))\n",
    "print(complex(b),type(b))\n",
    "print(complex(c),type(c))\n",
    "print(complex(d),type(d))\n",
    "print(complex(v),type(v))"
   ]
  },
  {
   "cell_type": "markdown",
   "id": "707ed29f-e7fb-4474-bef3-10d362e7be38",
   "metadata": {},
   "source": [
    "#### Float to Int"
   ]
  },
  {
   "cell_type": "code",
   "execution_count": 56,
   "id": "f983e6c5-580a-420f-a734-d2ab1dff0935",
   "metadata": {},
   "outputs": [
    {
     "name": "stdout",
     "output_type": "stream",
     "text": [
      "5 <class 'float'>\n",
      "66 <class 'float'>\n",
      "99 <class 'float'>\n",
      "976 <class 'float'>\n",
      "45 <class 'float'>\n"
     ]
    }
   ],
   "source": [
    "a=5.9\n",
    "b=66.66\n",
    "c=99.55\n",
    "d=976.55\n",
    "v=45.44\n",
    "print(int(a),type(a))\n",
    "print(int(b),type(b))\n",
    "print(int(c),type(c))\n",
    "print(int(d),type(d))\n",
    "print(int(v),type(v))"
   ]
  },
  {
   "cell_type": "markdown",
   "id": "9e2dddaf-22f5-4e32-b29f-680431af5ad8",
   "metadata": {},
   "source": [
    "#### Float to Complex"
   ]
  },
  {
   "cell_type": "code",
   "execution_count": 59,
   "id": "b313bd06-2ed8-4e09-a3bc-2ea283e4ec32",
   "metadata": {},
   "outputs": [
    {
     "name": "stdout",
     "output_type": "stream",
     "text": [
      "(5.9+0j) <class 'float'>\n",
      "(66.66+0j) <class 'float'>\n",
      "(99.55+0j) <class 'float'>\n",
      "(976.55+0j) <class 'float'>\n",
      "(45.44+0j) <class 'float'>\n"
     ]
    }
   ],
   "source": [
    "a=5.9\n",
    "b=66.66\n",
    "c=99.55\n",
    "d=976.55\n",
    "v=45.44\n",
    "print(complex(a),type(a))\n",
    "print(complex(b),type(b))\n",
    "print(complex(c),type(c))\n",
    "print(complex(d),type(d))\n",
    "print(complex(v),type(v))"
   ]
  },
  {
   "cell_type": "markdown",
   "id": "9ac70dcf-3fd5-49f6-94af-7867029ca2f2",
   "metadata": {},
   "source": [
    "### Boolean "
   ]
  },
  {
   "cell_type": "code",
   "execution_count": 95,
   "id": "9c98c0ce-7ad6-417b-bd03-20030cd77d64",
   "metadata": {},
   "outputs": [
    {
     "name": "stdout",
     "output_type": "stream",
     "text": [
      "False\n",
      "False\n",
      "True\n",
      "True\n",
      "True\n",
      "False\n",
      "True\n",
      "True\n",
      "True\n",
      "True\n"
     ]
    }
   ],
   "source": [
    "print(5>9)\n",
    "print(4<2)\n",
    "print(33<44)\n",
    "print(22.4>22.3)\n",
    "print(55>33)\n",
    "print(4>=8)\n",
    "print(5<9)\n",
    "print(1>=1)\n",
    "print(16>2)\n",
    "print(32>11)"
   ]
  },
  {
   "cell_type": "markdown",
   "id": "3638072d-e85e-4ac4-856d-b9c3e60fcb63",
   "metadata": {},
   "source": [
    "### Bool"
   ]
  },
  {
   "cell_type": "code",
   "execution_count": 85,
   "id": "895ed1b3-ab11-41c3-b2c8-08f91f54e029",
   "metadata": {},
   "outputs": [
    {
     "name": "stdout",
     "output_type": "stream",
     "text": [
      "True\n",
      "True\n",
      "False\n",
      "False\n",
      "True\n"
     ]
    }
   ],
   "source": [
    "print(bool(5)) \n",
    "print(bool(77)) \n",
    "print(bool())\n",
    "print(bool(0)) \n",
    "print(bool(9.3))"
   ]
  },
  {
   "cell_type": "code",
   "execution_count": null,
   "id": "a72c06e2-b019-43fe-87da-227ef143df67",
   "metadata": {},
   "outputs": [],
   "source": []
  }
 ],
 "metadata": {
  "kernelspec": {
   "display_name": "Python 3 (ipykernel)",
   "language": "python",
   "name": "python3"
  },
  "language_info": {
   "codemirror_mode": {
    "name": "ipython",
    "version": 3
   },
   "file_extension": ".py",
   "mimetype": "text/x-python",
   "name": "python",
   "nbconvert_exporter": "python",
   "pygments_lexer": "ipython3",
   "version": "3.12.4"
  }
 },
 "nbformat": 4,
 "nbformat_minor": 5
}
