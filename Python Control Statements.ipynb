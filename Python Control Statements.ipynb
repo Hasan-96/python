{
 "cells": [
  {
   "cell_type": "markdown",
   "id": "b2185f59-16f2-42e4-9726-3acd0c31082a",
   "metadata": {},
   "source": [
    "### Control Statements\n",
    "\n",
    "In python, pass, break and continue are control flow statements used within loops.\n",
    "\n",
    "They provide way's to control the execution of a loop (or) to handel certain situation's.\n",
    "#### 1.pass:\n",
    "\n",
    "The pass statement in python is a placeholder that dose nothing.\n",
    "\n",
    "It is often used when a statement is required but we don't want to execute any code.\n",
    "\n",
    "The pass statement is a no - operation statement."
   ]
  },
  {
   "cell_type": "code",
   "execution_count": 4,
   "id": "c1640fe3-9793-46c4-9e26-14fbf2d4139b",
   "metadata": {},
   "outputs": [
    {
     "name": "stdout",
     "output_type": "stream",
     "text": [
      "0\n",
      "2\n",
      "3\n",
      "5\n",
      "6\n",
      "7\n",
      "8\n",
      "9\n"
     ]
    }
   ],
   "source": [
    "for i in range(10):\n",
    "    if i == 1 or i ==4:\n",
    "        pass\n",
    "    else:\n",
    "        print(i)"
   ]
  },
  {
   "cell_type": "markdown",
   "id": "c4469db5-f480-4b2a-b2ee-09efcefca6b2",
   "metadata": {},
   "source": [
    "### 2.break Statement\n",
    "\n",
    "The continue statement is used within a loop to skip the remaining code in the current \n",
    "\n",
    "iteration and proceed with the next iteration of the loop.\n",
    "\n",
    "It effectively \"jumps\" to the next iteration of the loop.\n",
    "\n",
    "The break statement is used to exit a loop prematurely.\n",
    "\n",
    "When a break statement is encountered, the loop terminates immediately, and the control is transferred to the statement immediately following the loop."
   ]
  },
  {
   "cell_type": "code",
   "execution_count": 7,
   "id": "d8aba75a-e689-446e-b489-b4446216e5f6",
   "metadata": {},
   "outputs": [
    {
     "name": "stdout",
     "output_type": "stream",
     "text": [
      "0\n",
      "1\n",
      "2\n",
      "3\n"
     ]
    }
   ],
   "source": [
    "a = []\n",
    "for i in range(10): \n",
    "    if i == 4:\n",
    "        break  \n",
    "    print(i)"
   ]
  },
  {
   "cell_type": "markdown",
   "id": "7f9ba1cf-6e90-414e-b10c-8091099d24a2",
   "metadata": {},
   "source": [
    "### 3. continue Statement\n",
    "\n",
    "The continue statement is used to skip the rest of the code inside a loop for the current iteration and move to the next iteration.\n",
    "\n",
    "It returns the control to the beginning of the loop.\n"
   ]
  },
  {
   "cell_type": "code",
   "execution_count": 10,
   "id": "d5080568-ed99-430b-bd8f-15c67ca42234",
   "metadata": {},
   "outputs": [
    {
     "name": "stdout",
     "output_type": "stream",
     "text": [
      "0\n",
      "1\n",
      "2\n",
      "3\n",
      "5\n",
      "6\n",
      "7\n",
      "8\n",
      "9\n"
     ]
    }
   ],
   "source": [
    "a = []\n",
    "for i in range(10): \n",
    "    if i == 4:\n",
    "        continue  \n",
    "    print(i)"
   ]
  },
  {
   "cell_type": "code",
   "execution_count": null,
   "id": "383d8e01-0b38-471d-b289-9dcc5e569aaa",
   "metadata": {},
   "outputs": [],
   "source": []
  }
 ],
 "metadata": {
  "kernelspec": {
   "display_name": "Python 3 (ipykernel)",
   "language": "python",
   "name": "python3"
  },
  "language_info": {
   "codemirror_mode": {
    "name": "ipython",
    "version": 3
   },
   "file_extension": ".py",
   "mimetype": "text/x-python",
   "name": "python",
   "nbconvert_exporter": "python",
   "pygments_lexer": "ipython3",
   "version": "3.12.4"
  }
 },
 "nbformat": 4,
 "nbformat_minor": 5
}
