{
 "cells": [
  {
   "cell_type": "markdown",
   "id": "064a77a3-86db-4379-b4ca-5bb9a8a9ce59",
   "metadata": {},
   "source": [
    "### Python Conditional Statements"
   ]
  },
  {
   "cell_type": "markdown",
   "id": "19737e77-6c64-4d5c-8938-5865d0d1e658",
   "metadata": {},
   "source": [
    "In Python, Conditional statements in Python are used to execute certain blocks of code based on whether a condition is true or false.\n",
    "\n",
    "The most common conditional statements are if, elif, and else keywords are used for creating \n",
    "conditional Structure.\n",
    "\n",
    "Conditional Statements are statements in Python that provide a choice for the control flow based on a condition.\n",
    "\n",
    "It means that the control flow of the Python program will be decided based on the outcome of the condition."
   ]
  },
  {
   "cell_type": "markdown",
   "id": "01805db5-1243-4cb9-9927-34ed7e87acc0",
   "metadata": {},
   "source": [
    "### 1.Python if - statement:"
   ]
  },
  {
   "cell_type": "markdown",
   "id": "911e093a-f7eb-4a2e-bb6e-0a1f8d878056",
   "metadata": {},
   "source": [
    "An If statement executes a block of code if the specified condition is true.\n",
    "\n",
    "If the simple code of block is to be performed if the condition holds then the if statement is used.\n",
    "\n",
    "Here the condition mentioned holds then the code of the block runs otherwise not."
   ]
  },
  {
   "cell_type": "markdown",
   "id": "361eccce-a386-4097-938e-5e56841622fa",
   "metadata": {},
   "source": [
    "#### SYNTAX :\n",
    "\n",
    "if condition: # body of if statement"
   ]
  },
  {
   "cell_type": "code",
   "execution_count": 13,
   "id": "f4629185-8edf-4f37-87ea-c888aae4e0ce",
   "metadata": {},
   "outputs": [
    {
     "name": "stdin",
     "output_type": "stream",
     "text": [
      "enter your number: -9\n"
     ]
    },
    {
     "name": "stdout",
     "output_type": "stream",
     "text": [
      "given number is negative\n"
     ]
    }
   ],
   "source": [
    "n=int(input(\"enter your number:\"))\n",
    "if n < 0:\n",
    "    print(\"given number is negative\")"
   ]
  },
  {
   "cell_type": "code",
   "execution_count": 19,
   "id": "ea1a3bfa-db72-4ace-bd9a-707cd746c300",
   "metadata": {},
   "outputs": [
    {
     "name": "stdout",
     "output_type": "stream",
     "text": [
      "a is greater than b\n"
     ]
    }
   ],
   "source": [
    "a=23\n",
    "b=12\n",
    "if a>b:\n",
    "    print(\"a is greater than b\")"
   ]
  },
  {
   "cell_type": "markdown",
   "id": "bfa53f28-7716-43fb-8725-f63f579b5f7c",
   "metadata": {},
   "source": [
    "### 2. Python else - statement:\n",
    "\n",
    "The else statement in Python is used to provide an alternative block of code to execute when the condition in an if statement is false.\r\n",
    "\n",
    "It allows you to create conditional logic that performs different actions based on whether a specific condition is met or not.\n",
    "\r\n",
    "The else keyword catches anything which isn't caught by the preceding conditions."
   ]
  },
  {
   "cell_type": "markdown",
   "id": "f6e5e453-1dad-461f-be72-341be44eba9b",
   "metadata": {},
   "source": [
    "#### SYNTAX :\n",
    "\n",
    "if condition: # body of if statement else: # body of else statement"
   ]
  },
  {
   "cell_type": "code",
   "execution_count": 26,
   "id": "d534f421-e5b9-4c59-837f-db3335f2f27b",
   "metadata": {},
   "outputs": [
    {
     "name": "stdin",
     "output_type": "stream",
     "text": [
      "Enter your number: -9873\n"
     ]
    },
    {
     "name": "stdout",
     "output_type": "stream",
     "text": [
      "the number is negative number\n"
     ]
    }
   ],
   "source": [
    "n=int(input(\"Enter your number:\"))\n",
    "if n>=0:\n",
    "    print(\"the number is positive number\")\n",
    "else:\n",
    "    print(\"the number is negative number\")"
   ]
  },
  {
   "cell_type": "code",
   "execution_count": 46,
   "id": "398d7eb7-899e-4e77-8e6c-da6e7e6397c7",
   "metadata": {},
   "outputs": [
    {
     "name": "stdin",
     "output_type": "stream",
     "text": [
      "Enter a year: 2024\n"
     ]
    },
    {
     "name": "stdout",
     "output_type": "stream",
     "text": [
      "2024 is leap year\n"
     ]
    }
   ],
   "source": [
    "n=int(input(\"Enter a year:\"))\n",
    "if n&4==0:\n",
    "    print(n,\"is leap year\")\n",
    "else:\n",
    "    print(n,\"is not leap year\")"
   ]
  },
  {
   "cell_type": "code",
   "execution_count": 52,
   "id": "cf316a32-c006-40af-81c5-572de91e05cd",
   "metadata": {},
   "outputs": [
    {
     "name": "stdin",
     "output_type": "stream",
     "text": [
      "Enter your number: 3\n"
     ]
    },
    {
     "name": "stdout",
     "output_type": "stream",
     "text": [
      "the number is odd\n"
     ]
    }
   ],
   "source": [
    "n=int(input(\"Enter your number:\"))\n",
    "if n%2==0:\n",
    "    print(\"the number is even\")\n",
    "else:\n",
    "    print(\"the number is odd\")"
   ]
  },
  {
   "cell_type": "markdown",
   "id": "5dbd2076-e992-4aa8-ab7a-1c83cc817e21",
   "metadata": {},
   "source": [
    "### 3. Python elif statement:\n",
    "\n",
    "The elif statement is a combination of \"else if.\"\n",
    "\n",
    "It provides a way to check multiple conditions in a sequential manner.\n",
    "\n",
    "If the initial if condition is false, the elif conditions are evaluated one by one until one of them is true.\n",
    "\n",
    "If none of the conditions are true, the else block (if present) is executed."
   ]
  },
  {
   "cell_type": "markdown",
   "id": "7af1ec85-4152-4983-b7bf-0918b3de9654",
   "metadata": {},
   "source": [
    "#### SYNTAX :\n",
    "\n",
    "if condition1: # code block 1\n",
    "\n",
    "elif condition2: # code block 2\n",
    "\n",
    "else: # code block 3"
   ]
  },
  {
   "cell_type": "code",
   "execution_count": 58,
   "id": "540b6372-c49c-486f-b714-04c99a307189",
   "metadata": {},
   "outputs": [
    {
     "name": "stdin",
     "output_type": "stream",
     "text": [
      "Enter your number : -73\n"
     ]
    },
    {
     "name": "stdout",
     "output_type": "stream",
     "text": [
      "number is negative\n"
     ]
    }
   ],
   "source": [
    "x=int(input(\"Enter your number :\"))\n",
    "if x>0:\n",
    "    print(\"number is positive\")\n",
    "elif x<0:\n",
    "    print(\"number is negative\")\n",
    "else:\n",
    "    print(\"number is zero\")"
   ]
  },
  {
   "cell_type": "code",
   "execution_count": 74,
   "id": "38a8a0c0-918c-4d87-98a1-be930af30679",
   "metadata": {},
   "outputs": [
    {
     "name": "stdin",
     "output_type": "stream",
     "text": [
      "Enter your order : fish\n"
     ]
    },
    {
     "name": "stdout",
     "output_type": "stream",
     "text": [
      "fish  order will be in 5 mins\n"
     ]
    }
   ],
   "source": [
    "order=input(\"Enter your order :\")\n",
    "veg=[\"tamato\",\"kaju\",\"panner\",\"muashroom\"]\n",
    "non_veg=[\"chicken\",\"mutton\",\"fish\",\"prawna\"]\n",
    "if order.lower() in veg:\n",
    "    print(order,\" order will be in 5 mins\")\n",
    "elif order in non_veg:\n",
    "    print(order,\" order will be in 5 mins\")\n",
    "else:\n",
    "    print(order,\" order is not there sry\")"
   ]
  },
  {
   "cell_type": "code",
   "execution_count": 78,
   "id": "a98e2104-2f14-482e-a30f-3066dc5aa483",
   "metadata": {},
   "outputs": [
    {
     "name": "stdin",
     "output_type": "stream",
     "text": [
      "Enter your month : june\n"
     ]
    },
    {
     "name": "stdout",
     "output_type": "stream",
     "text": [
      "june  has 30 days\n"
     ]
    }
   ],
   "source": [
    "m=input(\"Enter your month :\")\n",
    "y=m.capitalize()\n",
    "a=[\"january\",\"March\",\"may\",\"july\",\"august\",\"october\",\"december\"]\n",
    "b=[\"april\",\"june\",\"september\",\"november\"]\n",
    "c=[\"febuary\"]\n",
    "if m in a:\n",
    "    print(m,\" has 31 days\")\n",
    "elif m in b:\n",
    "    print(m,\" has 30 days\")\n",
    "elif m in c:\n",
    "    print(m,\" has 28 days\")\n",
    "else:\n",
    "    print(m,\"invalid\")"
   ]
  },
  {
   "cell_type": "markdown",
   "id": "34a340dd-dffe-427e-8df3-4e487e2fbeee",
   "metadata": {},
   "source": [
    "### 4. Python Nested If Statement\n",
    "\n",
    "A nested if is an if statement that is the target of another if statement. Nested if statements mean an if statement inside another if statement.\n",
    "\n",
    "Yes, Python allows us to nest if statements within if statements. i.e., we can place an if statement inside another if statement."
   ]
  },
  {
   "cell_type": "code",
   "execution_count": 83,
   "id": "3fb4645f-bcdf-479b-97d1-e957e8873475",
   "metadata": {},
   "outputs": [
    {
     "name": "stdin",
     "output_type": "stream",
     "text": [
      "enter number 654\n"
     ]
    },
    {
     "name": "stdout",
     "output_type": "stream",
     "text": [
      "Number is positive\n"
     ]
    }
   ],
   "source": [
    "number=int(input(\"enter number\"))\n",
    "if number >= 0:\n",
    "    if number == 0:\n",
    "      print('Number is 0')\n",
    "    else:\n",
    "        print('Number is positive')\n",
    "else:\n",
    "    print('Number is negative')"
   ]
  },
  {
   "cell_type": "code",
   "execution_count": null,
   "id": "c36fed4c-0007-4bf7-8331-973aad53d6c4",
   "metadata": {},
   "outputs": [],
   "source": []
  }
 ],
 "metadata": {
  "kernelspec": {
   "display_name": "Python 3 (ipykernel)",
   "language": "python",
   "name": "python3"
  },
  "language_info": {
   "codemirror_mode": {
    "name": "ipython",
    "version": 3
   },
   "file_extension": ".py",
   "mimetype": "text/x-python",
   "name": "python",
   "nbconvert_exporter": "python",
   "pygments_lexer": "ipython3",
   "version": "3.12.4"
  }
 },
 "nbformat": 4,
 "nbformat_minor": 5
}
