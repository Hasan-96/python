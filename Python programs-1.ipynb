{
 "cells": [
  {
   "cell_type": "code",
   "execution_count": 57,
   "id": "ac00d2ba-eba3-4903-87f5-58e86a44b050",
   "metadata": {},
   "outputs": [
    {
     "name": "stdin",
     "output_type": "stream",
     "text": [
      "Enter your order: tamato\n"
     ]
    },
    {
     "name": "stdout",
     "output_type": "stream",
     "text": [
      "tamato your order will be in 5 min\n"
     ]
    }
   ],
   "source": [
    "order=input(\"Enter your order:\")\n",
    "non_veg=[\"chicken\",\"mutton\",\"fish\",\"prawna\"]\n",
    "veg=[\"tamato\",\"kaju\",\"panner\",\"muashroom\"]\n",
    "if order in non_veg:\n",
    "    print(order,\"your order will be in 5 mins\")\n",
    "elif order in veg:\n",
    "    print(order,\"your order will be in 5 min\")\n",
    "else:\n",
    "    print(\"yor order is not there sry\")"
   ]
  },
  {
   "cell_type": "code",
   "execution_count": 2,
   "id": "1416aea5-603c-41d8-9093-407388bd9d77",
   "metadata": {},
   "outputs": [
    {
     "name": "stdin",
     "output_type": "stream",
     "text": [
      "no. of slides: 6\n"
     ]
    },
    {
     "name": "stdout",
     "output_type": "stream",
     "text": [
      "hexagone has 6 slide\n"
     ]
    }
   ],
   "source": [
    "slides=int(input(\"no. of slides:\"))\n",
    "if slides==1:\n",
    "    print(\"line has 1 slide\")\n",
    "elif slides==2:\n",
    "    print (\"circle has 2 slide\")\n",
    "elif slides==3:\n",
    "    print (\"triangle has 3 slide\")\n",
    "elif slides==4:\n",
    "    print (\"square has 4 slide\")\n",
    "elif slides==5:\n",
    "    print (\"pentagone has 5 slide\")\n",
    "elif slides==6:\n",
    "    print (\"hexagone has 6 slide\")\n",
    "elif slides==7:\n",
    "    print (\"septagone has 7 slide\")\n",
    "elif slides==8:\n",
    "    print (\"octagone has 8 slide\")\n",
    "elif slides==9:\n",
    "    print (\"nanogone has 9 slide\")\n",
    "elif slides==10:\n",
    "    print (\"decogone has 10 slide\")\n",
    "else :\n",
    " print(\"sorry\")"
   ]
  },
  {
   "cell_type": "code",
   "execution_count": 10,
   "id": "a48af1d5-b12f-458e-b8ec-76e670577e1c",
   "metadata": {},
   "outputs": [
    {
     "name": "stdin",
     "output_type": "stream",
     "text": [
      "Enter month: july\n"
     ]
    },
    {
     "name": "stdout",
     "output_type": "stream",
     "text": [
      "July has 31 days\n"
     ]
    }
   ],
   "source": [
    "m=input(\"Enter month:\")\n",
    "month=m.capitalize()      \n",
    "A= [\"January\",\"March\",\"May\",\"July\",\"August\",\"October\",\"December\"]\n",
    "B= [\"April\",\"June\",\"September\",\"November\"]\n",
    "C= [\"Febuary\"]\n",
    "\n",
    "if month in A:\n",
    "    print(month,\"has 31 days\")\n",
    "elif month in B:\n",
    "    print(month,\"has 30 days\")\n",
    "elif month in C:\n",
    "    print(month,\"has 28 days\")\n",
    "else:\n",
    "    print(month,\" is invalid\")"
   ]
  },
  {
   "cell_type": "markdown",
   "id": "82270b2d-e630-423b-98e9-c436d34fdb9d",
   "metadata": {},
   "source": [
    "#### PYTHON CODE TO CHECK LEAP YEAR OR NOT"
   ]
  },
  {
   "cell_type": "code",
   "execution_count": 12,
   "id": "118ad6cb-fdd9-4022-a0aa-54d78d25831b",
   "metadata": {},
   "outputs": [
    {
     "name": "stdin",
     "output_type": "stream",
     "text": [
      "Enter the year: 2024\n"
     ]
    },
    {
     "name": "stdout",
     "output_type": "stream",
     "text": [
      "2024 is Leap Year\n"
     ]
    }
   ],
   "source": [
    "year=int(input(\"Enter the year:\"))\n",
    "if (year%400 == 0) or (year%4==0 and year%100!=0):\n",
    "    print(year,\"is Leap Year\")\n",
    "else:\n",
    "    print(year,\"is Not a Leap Year\")"
   ]
  },
  {
   "cell_type": "markdown",
   "id": "fea271f2-e92f-4d08-a252-3d184cedb5b8",
   "metadata": {},
   "source": [
    "#### PYTHON CODE TO FIND LARGEST AMONG THREE NUMBERS"
   ]
  },
  {
   "cell_type": "code",
   "execution_count": 26,
   "id": "596d2e55-0e17-4a8f-9ceb-2d139e0e3257",
   "metadata": {},
   "outputs": [
    {
     "name": "stdin",
     "output_type": "stream",
     "text": [
      "Enter a value : 765\n",
      "Enter b value : 7654.9\n",
      "Enter c value : 765\n"
     ]
    },
    {
     "name": "stdout",
     "output_type": "stream",
     "text": [
      "7654.9 is largest\n"
     ]
    }
   ],
   "source": [
    "a=input(\"Enter a value :\")\n",
    "b=input(\"Enter b value :\")\n",
    "c=input(\"Enter c value :\")\n",
    "if(a>=b and a>=c):\n",
    "    print(a,\"is largest\")\n",
    "elif(b>=a and b>=c):\n",
    "    print(b,\"is largest\")\n",
    "else:\n",
    "    print(c,\"is largest\")"
   ]
  },
  {
   "cell_type": "markdown",
   "id": "4e1a23fd-7be7-44b1-9514-70ddc18616bd",
   "metadata": {},
   "source": [
    "#### PYTHON CODE FOR TRAFFIC SIGNALS"
   ]
  },
  {
   "cell_type": "code",
   "execution_count": 32,
   "id": "0735b660-edb1-4caf-b5da-04a136fa677b",
   "metadata": {},
   "outputs": [
    {
     "name": "stdin",
     "output_type": "stream",
     "text": [
      "Enter the colour: red\n"
     ]
    },
    {
     "name": "stdout",
     "output_type": "stream",
     "text": [
      "Red :STOP\n"
     ]
    }
   ],
   "source": [
    "m=input(\"Enter the colour:\")\n",
    "c=m.capitalize()\n",
    "if c==\"Red\":\n",
    "    print(c,\":STOP\")\n",
    "elif c==\"Yellow\":\n",
    "    print(c,\":Get READY\")\n",
    "elif c==\"Green\":\n",
    "    print(c,\":GO\")\n",
    "else:\n",
    "    print(c,\"invalid colour\")"
   ]
  },
  {
   "cell_type": "markdown",
   "id": "cdaf84c1-86fc-462d-a1f6-f307764c7c42",
   "metadata": {},
   "source": [
    "#### PYTHON CODE TO CHECK VOWEL OR CONSONANT"
   ]
  },
  {
   "cell_type": "code",
   "execution_count": 139,
   "id": "99fe9c00-6887-4998-ab8a-cc49ff14c5b4",
   "metadata": {},
   "outputs": [
    {
     "name": "stdin",
     "output_type": "stream",
     "text": [
      "Enter the Alphabet: A\n"
     ]
    },
    {
     "name": "stdout",
     "output_type": "stream",
     "text": [
      "Your Alphabet: a is a vowel.\n"
     ]
    }
   ],
   "source": [
    "x=input(\"Enter the Alphabet:\")\n",
    "y=x.lower()\n",
    "vowels=[\"a\",\"e\",\"i\",\"o\",\"u\"]\n",
    "consonants=['b', 'c', 'd', 'f', 'g', 'h', 'j', 'k', 'l''m', 'n', 'p', 'q', 'r', 's', 't', 'v', 'w', 'x', 'y', 'z']\n",
    "if y in vowels:\n",
    "    print(\"Your Alphabet:\",m,\"is a vowel.\")\n",
    "elif y in consonants:\n",
    "     print(\"Your Alphabet:\",m,\"is a consonant.\")\n",
    "else :\n",
    "    print(m,\"Invalid.\")"
   ]
  },
  {
   "cell_type": "markdown",
   "id": "6b88880d-b36b-424b-a680-09e707cb936c",
   "metadata": {},
   "source": [
    "#### PYTHON CODE TO REVERSE A STRING"
   ]
  },
  {
   "cell_type": "code",
   "execution_count": 99,
   "id": "28726341-cf81-48d5-bdd2-b9a1baa683a1",
   "metadata": {},
   "outputs": [
    {
     "name": "stdin",
     "output_type": "stream",
     "text": [
      "Enter a String: hasan\n"
     ]
    },
    {
     "name": "stdout",
     "output_type": "stream",
     "text": [
      "Reverse String : nasah\n"
     ]
    }
   ],
   "source": [
    "x=input(\"Enter a String:\")\n",
    "y=x[::-1]\n",
    "print(\"Reverse String :\",y)"
   ]
  },
  {
   "cell_type": "markdown",
   "id": "6d7f328a-a4fb-4b42-a65b-56d704fa0874",
   "metadata": {},
   "source": [
    "#### PYTHON CODE TO REMOVE DUPLICATES IN A LIST"
   ]
  },
  {
   "cell_type": "code",
   "execution_count": 97,
   "id": "c21edbfd-1761-4fda-9476-d789b3590a47",
   "metadata": {},
   "outputs": [
    {
     "name": "stdin",
     "output_type": "stream",
     "text": [
      "Enter numbers separated by commas:  1,5,3,5,2,6,2,4\n"
     ]
    },
    {
     "name": "stdout",
     "output_type": "stream",
     "text": [
      "Your list: [1, 5, 3, 5, 2, 6, 2, 4]\n",
      "Your list after removing the duplicates : [1, 2, 3, 4, 5, 6]\n"
     ]
    }
   ],
   "source": [
    "u = input(\"Enter numbers separated by commas: \")\n",
    "i = [int(x) for x in u.split(',')]\n",
    "print(\"Your list:\",i)\n",
    "\n",
    "p=set(i)\n",
    "d=list(p)\n",
    "print(\"Your list after removing the duplicates :\",d)"
   ]
  },
  {
   "cell_type": "markdown",
   "id": "23b81dd1-6084-4f3c-aec1-b6b252faa24a",
   "metadata": {},
   "source": [
    "#### PYTHON CODE TO SWAP TWO NUMBERS WITHOUT USING 3rd VARIABLE"
   ]
  },
  {
   "cell_type": "code",
   "execution_count": 89,
   "id": "d7c0f20d-00d3-4a40-b452-f571abefb6ec",
   "metadata": {},
   "outputs": [
    {
     "name": "stdin",
     "output_type": "stream",
     "text": [
      "Enter the first number: a= 89\n",
      "Enter the second number: b= 78\n"
     ]
    },
    {
     "name": "stdout",
     "output_type": "stream",
     "text": [
      "After Swapping: a: 78 b: 89\n"
     ]
    }
   ],
   "source": [
    "x=int(input(\"Enter the first number: a=\"))\n",
    "y=int(input(\"Enter the second number: b=\"))\n",
    "x,y=y,x\n",
    "print(\"After Swapping:\",\"a:\",x,\"b:\",y)"
   ]
  },
  {
   "cell_type": "code",
   "execution_count": null,
   "id": "6bb453b3-0dc0-4819-90fe-ace049ec7437",
   "metadata": {},
   "outputs": [],
   "source": []
  }
 ],
 "metadata": {
  "kernelspec": {
   "display_name": "Python 3 (ipykernel)",
   "language": "python",
   "name": "python3"
  },
  "language_info": {
   "codemirror_mode": {
    "name": "ipython",
    "version": 3
   },
   "file_extension": ".py",
   "mimetype": "text/x-python",
   "name": "python",
   "nbconvert_exporter": "python",
   "pygments_lexer": "ipython3",
   "version": "3.12.4"
  }
 },
 "nbformat": 4,
 "nbformat_minor": 5
}
