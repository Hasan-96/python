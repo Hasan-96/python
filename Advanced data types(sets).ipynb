{
 "cells": [
  {
   "cell_type": "markdown",
   "id": "d6c12cdf-db06-4522-be60-14fd5ce9460c",
   "metadata": {},
   "source": [
    "## Python Sets\n",
    "\n",
    " 1. Unordered: Sets do not maintain the order of elements, meaning there is no indexing or slicing.\n",
    "\n",
    " 2. Unique: Sets automatically enforce that all elements are unique, with no duplicates allowed.\n",
    "\n",
    " 3. Mutable: Sets are mutable, allowing modification after creation, such as adding or removing elements.\n",
    "\n",
    " 4. Dynamic Size: The size of a set is flexible and can grow or shrink as elements are added or removed.\n",
    "\n",
    " 5. Immutable Elements: Elements within a set must be immutable types, such as numbers, strings, or tuples. Sets cannot contain other sets or lists.\n",
    "\n",
    " 6. No Duplicates: Attempting to add duplicate elements to a set has no effect; the set remains unchanged.\n",
    "\n",
    " 7. Set Operations: Sets support various mathematical operations like union, intersection, difference, and symmetric difference.\n",
    "\n",
    " 8. Iterable: Sets can be iterated over using loops, and they support common operations like membership tests (using the in keyword).\n",
    "\n",
    " 9. No Indexing: Since sets are unordered, they do not support indexing or slicing operations, unlike lists or tuples.\n",
    "\n",
    "10. Hashable: Sets themselves must be hashable to be used as elements of other sets or keys in dictionaries.\n",
    "\n",
    "\n",
    "\n",
    "\n"
   ]
  },
  {
   "cell_type": "markdown",
   "id": "49467705-e5fc-4915-acbf-8dd4fef2df81",
   "metadata": {},
   "source": [
    "### Creating Sets :\n",
    " Python Sets can be created by using the built-in set() function with an iterable object or a sequence by placing the sequence inside curly braces, separated by a ‘comma’.\n",
    "\n",
    "Note: A Python set cannot have mutable elements like a list or dictionary, as it is immutable."
   ]
  },
  {
   "cell_type": "code",
   "execution_count": 7,
   "id": "294a28f2-e276-4305-842d-5dae468b766f",
   "metadata": {},
   "outputs": [
    {
     "name": "stdout",
     "output_type": "stream",
     "text": [
      "{32, 2, 4, 324, 42, 234, 43}\n"
     ]
    }
   ],
   "source": [
    "num={2,4,42,43,234,324,32}\n",
    "print(num)"
   ]
  },
  {
   "cell_type": "code",
   "execution_count": 9,
   "id": "d5e8cd7b-05be-43ff-bba0-bceeba115155",
   "metadata": {},
   "outputs": [
    {
     "name": "stdout",
     "output_type": "stream",
     "text": [
      "{'sai', 'teja', 'abhi', 'ram'}\n"
     ]
    }
   ],
   "source": [
    "names={\"sai\",\"abhi\",\"teja\",\"ram\"}\n",
    "print(names)"
   ]
  },
  {
   "cell_type": "markdown",
   "id": "28d7acd8-a254-4fa8-90f0-ce0fafcc32e9",
   "metadata": {},
   "source": [
    "### Set Operations:\n",
    "\n",
    "Python Set provides serveral operations for working with sets."
   ]
  },
  {
   "cell_type": "markdown",
   "id": "26e2392c-6d31-42a0-9e5e-b2903ac97b6a",
   "metadata": {},
   "source": [
    "#### 1.Union Operation\n",
    "\n",
    "The Union operation will combine elements of sets by removing duplicates."
   ]
  },
  {
   "cell_type": "markdown",
   "id": "fb5e9d4a-06f0-40d0-b331-9fd92b8530b2",
   "metadata": {},
   "source": [
    "#### Syntax:"
   ]
  },
  {
   "cell_type": "code",
   "execution_count": null,
   "id": "1a69c383-93ef-4732-8802-28bd5aeb6ad8",
   "metadata": {},
   "outputs": [],
   "source": [
    "set1.union(set2) or set1 | set2"
   ]
  },
  {
   "cell_type": "code",
   "execution_count": 21,
   "id": "78d799e0-f7a2-45b8-8a9a-98611d87b26b",
   "metadata": {},
   "outputs": [
    {
     "name": "stdout",
     "output_type": "stream",
     "text": [
      "{'google', 'banana', 'apple', 'microsoft', 'cherry'}\n"
     ]
    }
   ],
   "source": [
    "x = {\"apple\", \"banana\", \"cherry\"}\n",
    "y = {\"google\", \"microsoft\", \"apple\"}\n",
    "z = x.union(y)\n",
    "z=x|y\n",
    "print(z)"
   ]
  },
  {
   "cell_type": "markdown",
   "id": "976fa70e-1a3e-4407-b780-b3324c0557d9",
   "metadata": {},
   "source": [
    "#### 2.Intersection Operation\n",
    "\n",
    "The intersection operation will create a new set containing elements that are common to both sets."
   ]
  },
  {
   "cell_type": "markdown",
   "id": "25310bae-d320-4535-8a43-9bb36aa6e51b",
   "metadata": {},
   "source": [
    "#### Syntax:"
   ]
  },
  {
   "cell_type": "code",
   "execution_count": null,
   "id": "9c9753b1-1f90-4473-9fd7-b944e0e34f38",
   "metadata": {},
   "outputs": [],
   "source": [
    "set1.intersection(set2) or set1 & set2"
   ]
  },
  {
   "cell_type": "code",
   "execution_count": 27,
   "id": "6c6bf6ea-16fa-4785-ac2a-a2e184330ff8",
   "metadata": {},
   "outputs": [
    {
     "name": "stdout",
     "output_type": "stream",
     "text": [
      "{'apple'}\n"
     ]
    }
   ],
   "source": [
    "x = {\"apple\", \"banana\", \"cherry\"}\n",
    "y = {\"google\", \"microsoft\", \"apple\"}\n",
    "z = x.intersection(y)\n",
    "z=x&y\n",
    "print(z)"
   ]
  },
  {
   "cell_type": "markdown",
   "id": "0edea056-091b-464a-a10e-4f3826849fb2",
   "metadata": {},
   "source": [
    "#### 3. Difference Operation:\n",
    "In Difference Operation it will create a new set containing elements that are in the first set but not in the second."
   ]
  },
  {
   "cell_type": "markdown",
   "id": "2cd502fb-3d57-4476-bf5d-1a41bb288680",
   "metadata": {},
   "source": [
    "#### Syntax:"
   ]
  },
  {
   "cell_type": "code",
   "execution_count": null,
   "id": "5aed4047-c603-4982-be39-0796d49e6990",
   "metadata": {},
   "outputs": [],
   "source": [
    "set1.difference(set2) or set1 - set2"
   ]
  },
  {
   "cell_type": "code",
   "execution_count": 41,
   "id": "40b5ab35-9e61-452b-80a1-e87a72ccb260",
   "metadata": {},
   "outputs": [
    {
     "name": "stdout",
     "output_type": "stream",
     "text": [
      "{'banana', 'cherry'}\n"
     ]
    }
   ],
   "source": [
    "x = {\"apple\", \"banana\", \"cherry\"}\n",
    "y = {\"google\", \"microsoft\", \"apple\"}\n",
    "z = x.difference(y)\n",
    "z=x-y\n",
    "print(z)"
   ]
  },
  {
   "cell_type": "markdown",
   "id": "3f07ff4b-b061-4c5c-8deb-a81a3c26591d",
   "metadata": {},
   "source": [
    "### 4.Symmetric Difference Operation:\n",
    "\n",
    "The symmetric difference operation will be create a new set containing elements that are in either set, but not in both."
   ]
  },
  {
   "cell_type": "markdown",
   "id": "844a34c1-1fdd-418a-8e27-8842fb77e463",
   "metadata": {},
   "source": [
    "#### Syntax:"
   ]
  },
  {
   "cell_type": "code",
   "execution_count": null,
   "id": "410030e6-cae8-4e6f-b2dd-6a8baca0b44d",
   "metadata": {},
   "outputs": [],
   "source": [
    "set1.symmetric_difference(set2) or set1 ^ set2"
   ]
  },
  {
   "cell_type": "code",
   "execution_count": 47,
   "id": "f6523dfa-5792-459b-ac30-67be4e76621c",
   "metadata": {},
   "outputs": [
    {
     "name": "stdout",
     "output_type": "stream",
     "text": [
      "{'google', 'microsoft', 'banana', 'cherry'}\n"
     ]
    }
   ],
   "source": [
    "x = {\"apple\", \"banana\", \"cherry\"}\n",
    "y = {\"google\", \"microsoft\", \"apple\"}\n",
    "z = x.symmetric_difference(y)\n",
    "z=x^y\n",
    "print(z)"
   ]
  },
  {
   "cell_type": "markdown",
   "id": "8108bc04-55d7-46fc-9171-c11ba1f6f254",
   "metadata": {},
   "source": [
    "### Set Methods\n",
    "It has a set of built-in methods that we can use on sets."
   ]
  },
  {
   "cell_type": "markdown",
   "id": "10d48bd2-e5c6-4968-8dde-bcaec3658fb7",
   "metadata": {},
   "source": [
    "#### 1.add()\t \t\n",
    "\n",
    "Adds an element to the set"
   ]
  },
  {
   "cell_type": "code",
   "execution_count": 53,
   "id": "34bd84df-377a-481d-985d-da6dedcb41fd",
   "metadata": {},
   "outputs": [
    {
     "name": "stdout",
     "output_type": "stream",
     "text": [
      "{'apple', 'cherry', 'orange', 'banana'}\n"
     ]
    }
   ],
   "source": [
    "fruits = {\"apple\", \"banana\", \"cherry\"}\n",
    "\n",
    "fruits.add(\"orange\")\n",
    "\n",
    "print(fruits)"
   ]
  },
  {
   "cell_type": "markdown",
   "id": "f392cd1b-98ac-4c81-8611-43732403df50",
   "metadata": {},
   "source": [
    "#### 2.clear()\t \t\n",
    "\n",
    "Removes all the elements from the set"
   ]
  },
  {
   "cell_type": "code",
   "execution_count": 56,
   "id": "5bdc51aa-57a9-4646-8cef-879b02e9cd10",
   "metadata": {},
   "outputs": [
    {
     "name": "stdout",
     "output_type": "stream",
     "text": [
      "set()\n"
     ]
    }
   ],
   "source": [
    "fruits = {\"apple\", \"banana\", \"cherry\"}\n",
    "\n",
    "fruits.clear()\n",
    "\n",
    "print(fruits)"
   ]
  },
  {
   "cell_type": "markdown",
   "id": "d67a256c-be98-4de2-bd86-71939aeb9e63",
   "metadata": {},
   "source": [
    "#### 3.copy()\t \t\n",
    "\n",
    "Returns a copy of the set"
   ]
  },
  {
   "cell_type": "code",
   "execution_count": 59,
   "id": "cdd2ea7f-099a-40e9-87cb-3ce80aa96d66",
   "metadata": {},
   "outputs": [
    {
     "name": "stdout",
     "output_type": "stream",
     "text": [
      "{'apple', 'cherry', 'banana'}\n"
     ]
    }
   ],
   "source": [
    "fruits = {\"apple\", \"banana\", \"cherry\"}\n",
    "\n",
    "x = fruits.copy()\n",
    "\n",
    "print(x)"
   ]
  },
  {
   "cell_type": "markdown",
   "id": "feb1a1ee-8a22-4fad-9955-4d930f210845",
   "metadata": {},
   "source": [
    "#### 4.difference_update()\t-=\t\n",
    "\n",
    "Removes the items in this set that are also included in another, specified set"
   ]
  },
  {
   "cell_type": "code",
   "execution_count": 66,
   "id": "fa5303dc-3bfc-49ec-b576-ff73831566f8",
   "metadata": {},
   "outputs": [
    {
     "name": "stdout",
     "output_type": "stream",
     "text": [
      "{'cherry', 'banana'}\n"
     ]
    }
   ],
   "source": [
    "x = {\"apple\", \"banana\", \"cherry\"}\n",
    "y = {\"google\", \"microsoft\", \"apple\"}\n",
    "\n",
    "x.difference_update(y)\n",
    "\n",
    "print(x)"
   ]
  },
  {
   "cell_type": "markdown",
   "id": "438280ad-d485-41d1-b824-cf005c77e824",
   "metadata": {},
   "source": [
    "#### 5.discard()\t \t\n",
    "\n",
    "Remove the specified item"
   ]
  },
  {
   "cell_type": "code",
   "execution_count": 69,
   "id": "588411cc-77c3-45f4-8c67-391722c4398b",
   "metadata": {},
   "outputs": [
    {
     "name": "stdout",
     "output_type": "stream",
     "text": [
      "{'apple', 'cherry'}\n"
     ]
    }
   ],
   "source": [
    "fruits = {\"apple\", \"banana\", \"cherry\"}\n",
    "\n",
    "fruits.discard(\"banana\")\n",
    "\n",
    "print(fruits)"
   ]
  },
  {
   "cell_type": "markdown",
   "id": "b9ce729b-cd8b-4d89-854f-ddbb2b658376",
   "metadata": {},
   "source": [
    "#### 6.intersection_update()\t&=\t\n",
    "\n",
    "Removes the items in this set that are not present in other, specified set(s)"
   ]
  },
  {
   "cell_type": "code",
   "execution_count": 77,
   "id": "7008374a-6556-41fb-af62-4ffc14ef4420",
   "metadata": {},
   "outputs": [
    {
     "name": "stdout",
     "output_type": "stream",
     "text": [
      "{'apple'}\n"
     ]
    }
   ],
   "source": [
    "x = {\"apple\", \"banana\", \"cherry\"}\n",
    "y = {\"google\", \"microsoft\", \"apple\"}\n",
    "\n",
    "x.intersection_update(y)\n",
    "\n",
    "print(x)"
   ]
  },
  {
   "cell_type": "markdown",
   "id": "b2baad67-2a70-4642-829d-2497cb4a3b29",
   "metadata": {},
   "source": [
    "#### 7.isdisjoint()\t \t\n",
    "\n",
    "Returns whether two sets have a intersection or not"
   ]
  },
  {
   "cell_type": "code",
   "execution_count": 80,
   "id": "5365b783-12ad-4d2e-9ddd-d9de417c4647",
   "metadata": {},
   "outputs": [
    {
     "name": "stdout",
     "output_type": "stream",
     "text": [
      "True\n"
     ]
    }
   ],
   "source": [
    "x = {\"apple\", \"banana\", \"cherry\"}\n",
    "y = {\"google\", \"microsoft\", \"facebook\"}\n",
    "\n",
    "z = x.isdisjoint(y)\n",
    "\n",
    "print(z)"
   ]
  },
  {
   "cell_type": "markdown",
   "id": "4134ca90-d920-44a9-9b87-9239499d1f99",
   "metadata": {},
   "source": [
    "#### 8.issubset()\t<=\t\n",
    "\n",
    "Returns whether another set contains this set or not"
   ]
  },
  {
   "cell_type": "code",
   "execution_count": 83,
   "id": "f1e6f265-e171-45d1-b777-0b47a24642ad",
   "metadata": {},
   "outputs": [
    {
     "name": "stdout",
     "output_type": "stream",
     "text": [
      "True\n"
     ]
    }
   ],
   "source": [
    "x = {\"a\", \"b\", \"c\"}\n",
    "y = {\"f\", \"e\", \"d\", \"c\", \"b\", \"a\"}\n",
    "\n",
    "z = x.issubset(y)\n",
    "\n",
    "print(z)"
   ]
  },
  {
   "cell_type": "markdown",
   "id": "91fcd426-f0fc-4a85-aa95-867381e110f1",
   "metadata": {},
   "source": [
    "#### 9.issuperset()\t>=\t\n",
    "\n",
    "Returns whether this set contains another set or not"
   ]
  },
  {
   "cell_type": "code",
   "execution_count": 86,
   "id": "68c657b9-f811-4602-aaf7-b66ab74e3811",
   "metadata": {},
   "outputs": [
    {
     "name": "stdout",
     "output_type": "stream",
     "text": [
      "True\n"
     ]
    }
   ],
   "source": [
    "x = {\"f\", \"e\", \"d\", \"c\", \"b\", \"a\"}\n",
    "y = {\"a\", \"b\", \"c\"}\n",
    "\n",
    "z = x.issuperset(y)\n",
    "\n",
    "print(z)"
   ]
  },
  {
   "cell_type": "markdown",
   "id": "c3e46763-f95a-49ad-af6c-a50684cd661e",
   "metadata": {},
   "source": [
    "#### 10.pop()\t \t\n",
    "\n",
    "Removes an element from the set"
   ]
  },
  {
   "cell_type": "code",
   "execution_count": 89,
   "id": "836fda92-3830-4d34-bf4a-d888859dcc95",
   "metadata": {},
   "outputs": [
    {
     "name": "stdout",
     "output_type": "stream",
     "text": [
      "{'cherry', 'banana'}\n"
     ]
    }
   ],
   "source": [
    "fruits = {\"apple\", \"banana\", \"cherry\"}\n",
    "\n",
    "fruits.pop()\n",
    "\n",
    "print(fruits)"
   ]
  },
  {
   "cell_type": "markdown",
   "id": "7d90b4eb-a566-4222-978b-804011210cac",
   "metadata": {},
   "source": [
    "#### 11.remove()\t \t\n",
    "\n",
    "Removes the specified element"
   ]
  },
  {
   "cell_type": "code",
   "execution_count": 92,
   "id": "115ec786-0390-42ee-a3f6-dd15a03c1d0c",
   "metadata": {},
   "outputs": [
    {
     "name": "stdout",
     "output_type": "stream",
     "text": [
      "{'apple', 'cherry'}\n"
     ]
    }
   ],
   "source": [
    "fruits = {\"apple\", \"banana\", \"cherry\"}\n",
    "\n",
    "fruits.remove(\"banana\")\n",
    "\n",
    "print(fruits)"
   ]
  },
  {
   "cell_type": "markdown",
   "id": "40bdc359-0a32-483b-ab24-2690c0c420cc",
   "metadata": {},
   "source": [
    "#### 12.symmetric_difference_update()\t^=\t\n",
    "\n",
    "Inserts the symmetric differences from this set and another"
   ]
  },
  {
   "cell_type": "code",
   "execution_count": 95,
   "id": "0fe96f4b-11a4-443d-847d-2670d8d85df0",
   "metadata": {},
   "outputs": [
    {
     "name": "stdout",
     "output_type": "stream",
     "text": [
      "{'microsoft', 'cherry', 'banana', 'google'}\n"
     ]
    }
   ],
   "source": [
    "x = {\"apple\", \"banana\", \"cherry\"}\n",
    "y = {\"google\", \"microsoft\", \"apple\"}\n",
    "\n",
    "x.symmetric_difference_update(y)\n",
    "\n",
    "print(x)"
   ]
  },
  {
   "cell_type": "markdown",
   "id": "019e6f09-9f2b-44d8-b4c4-21404082930b",
   "metadata": {},
   "source": [
    "#### 13.update()\t|=\t\n",
    "\n",
    "Update the set with the union of this set and others"
   ]
  },
  {
   "cell_type": "code",
   "execution_count": 98,
   "id": "f55db456-fc35-48ad-95ab-e624d423986d",
   "metadata": {},
   "outputs": [
    {
     "name": "stdout",
     "output_type": "stream",
     "text": [
      "{'google', 'banana', 'apple', 'microsoft', 'cherry'}\n"
     ]
    }
   ],
   "source": [
    "x = {\"apple\", \"banana\", \"cherry\"}\n",
    "y = {\"google\", \"microsoft\", \"apple\"}\n",
    "\n",
    "x.update(y)\n",
    "\n",
    "print(x)\n"
   ]
  },
  {
   "cell_type": "code",
   "execution_count": null,
   "id": "9cbc6bbb-fff3-460a-b66c-c19eed237b62",
   "metadata": {},
   "outputs": [],
   "source": []
  }
 ],
 "metadata": {
  "kernelspec": {
   "display_name": "Python 3 (ipykernel)",
   "language": "python",
   "name": "python3"
  },
  "language_info": {
   "codemirror_mode": {
    "name": "ipython",
    "version": 3
   },
   "file_extension": ".py",
   "mimetype": "text/x-python",
   "name": "python",
   "nbconvert_exporter": "python",
   "pygments_lexer": "ipython3",
   "version": "3.12.4"
  }
 },
 "nbformat": 4,
 "nbformat_minor": 5
}
