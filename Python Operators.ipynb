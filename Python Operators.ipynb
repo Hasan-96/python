{
 "cells": [
  {
   "cell_type": "markdown",
   "id": "7182a525-cdac-48b7-a3b6-1744f3791956",
   "metadata": {},
   "source": [
    "# Python_Operators"
   ]
  },
  {
   "cell_type": "markdown",
   "id": "a504aabe-293d-4d5b-9af0-0375a2b26e30",
   "metadata": {},
   "source": [
    "#### Python divides the operators in the following groups:\n",
    "\n",
    "##### 1. Arithmetic operators\n",
    "\n",
    "##### 2. Assignment operators\n",
    "\n",
    "##### 3. Comparison operators\n",
    "\n",
    "##### 4. Logical operators\n",
    "\n",
    "##### 5. Identity operators\n",
    "\n",
    "##### 6. Membership operators\n",
    "\n",
    "##### 7. Bitwise operators"
   ]
  },
  {
   "cell_type": "markdown",
   "id": "88909b5c-801d-44be-b601-996e3f631bf7",
   "metadata": {},
   "source": [
    "## 1. Arithmetic operators"
   ]
  },
  {
   "cell_type": "markdown",
   "id": "ba864b3a-6414-4d88-b164-efb07b31d112",
   "metadata": {
    "jp-MarkdownHeadingCollapsed": true
   },
   "source": [
    "#### Arithmetic operators are used to perform basic mathematical operations such as addition, subtraction, multiplication, division, modulus, exponentiation, floor division.\n",
    "\n",
    "\n",
    "#### Floor division simplified means that the real number result of the division is always rounded down. For example, 7 divided by 3 would give 1.75 . And using floor division, the result would be 1 because no matter what comes after the decimal point, we would always round down.\n",
    "\n",
    "\n",
    "#### Integer division returns the quotient portion of a value, and modulus division returns the remainder. interger returns how many times the value can be devided by the next number like 25/5 = 5. Modulus returns what is left like 25%4 = 1.\n",
    "\n"
   ]
  },
  {
   "cell_type": "markdown",
   "id": "6ab2d98a-a5c1-438e-b569-e58508de655b",
   "metadata": {},
   "source": [
    "### Addition(+)"
   ]
  },
  {
   "cell_type": "code",
   "execution_count": 207,
   "id": "f6020d9c-971f-4f71-9047-4d7b19fb165f",
   "metadata": {},
   "outputs": [
    {
     "name": "stdout",
     "output_type": "stream",
     "text": [
      "9\n",
      "7\n",
      "5\n",
      "10\n",
      "13\n"
     ]
    }
   ],
   "source": [
    "a=5\n",
    "b=4\n",
    "c=3\n",
    "d=2\n",
    "e=8\n",
    "ab=a+b\n",
    "bc=b+c\n",
    "cd=c+d\n",
    "de=d+e\n",
    "ea=e+a\n",
    "print(ab)\n",
    "print(bc)\n",
    "print(cd)\n",
    "print(de)\n",
    "print(ea)"
   ]
  },
  {
   "cell_type": "markdown",
   "id": "c7dbbc5e-fa18-447a-8b7b-3014a4851386",
   "metadata": {},
   "source": [
    "### Subtraction(-)\n"
   ]
  },
  {
   "cell_type": "code",
   "execution_count": 209,
   "id": "3a2d9beb-ada7-4420-aac3-eb2cc72502eb",
   "metadata": {},
   "outputs": [
    {
     "name": "stdout",
     "output_type": "stream",
     "text": [
      "-182\n",
      "500\n",
      "-402\n",
      "90\n",
      "-6\n"
     ]
    }
   ],
   "source": [
    "a=352\n",
    "b=534\n",
    "c=34\n",
    "d=436\n",
    "e=346\n",
    "ab=a-b\n",
    "bc=b-c\n",
    "cd=c-d\n",
    "de=d-e\n",
    "ea=e-a\n",
    "print(ab)\n",
    "print(bc)\n",
    "print(cd)\n",
    "print(de)\n",
    "print(ea)"
   ]
  },
  {
   "cell_type": "markdown",
   "id": "9eb050d8-6a58-4df5-8453-23dc8549b065",
   "metadata": {},
   "source": [
    "### Multiplication(*) "
   ]
  },
  {
   "cell_type": "code",
   "execution_count": 213,
   "id": "1afc1fff-0618-4fa1-afd3-ece4a1f4e02b",
   "metadata": {},
   "outputs": [
    {
     "name": "stdout",
     "output_type": "stream",
     "text": [
      "236919\n",
      "1555602\n",
      "868802\n",
      "2111285\n",
      "4364435\n"
     ]
    }
   ],
   "source": [
    "a=523\n",
    "b=453\n",
    "c=3434\n",
    "d=253\n",
    "e=8345\n",
    "ab=a*b\n",
    "bc=b*c\n",
    "cd=c*d\n",
    "de=d*e\n",
    "ea=e*a\n",
    "print(ab)\n",
    "print(bc)\n",
    "print(cd)\n",
    "print(de)\n",
    "print(ea)"
   ]
  },
  {
   "cell_type": "markdown",
   "id": "cb14a66e-532f-49ce-86ef-34cc8c1e7483",
   "metadata": {},
   "source": [
    "###  Division(/) \n"
   ]
  },
  {
   "cell_type": "code",
   "execution_count": 215,
   "id": "45fdda94-bc7b-423d-9777-9bba5cc85825",
   "metadata": {},
   "outputs": [
    {
     "name": "stdout",
     "output_type": "stream",
     "text": [
      "0.8107046910518703\n",
      "6.592643051771117\n",
      "1.0\n",
      "0.8800959232613909\n",
      "0.212592403772623\n"
     ]
    }
   ],
   "source": [
    "a=3923\n",
    "b=4839\n",
    "c=734\n",
    "d=734\n",
    "e=834\n",
    "ab=a/b\n",
    "bc=b/c\n",
    "cd=c/d\n",
    "de=d/e\n",
    "ea=e/a\n",
    "print(ab)\n",
    "print(bc)\n",
    "print(cd)\n",
    "print(de)\n",
    "print(ea)"
   ]
  },
  {
   "cell_type": "markdown",
   "id": "a69abd65-84d5-4c33-b70e-9f54b3cea2aa",
   "metadata": {},
   "source": [
    "### Modulus(%)\n"
   ]
  },
  {
   "cell_type": "code",
   "execution_count": 217,
   "id": "01ae60be-4b99-4e3c-805d-450f9acb9a22",
   "metadata": {},
   "outputs": [
    {
     "name": "stdout",
     "output_type": "stream",
     "text": [
      "83\n",
      "6\n",
      "30\n",
      "83\n",
      "10\n"
     ]
    }
   ],
   "source": [
    "a=83\n",
    "b=96\n",
    "c=30\n",
    "d=83\n",
    "e=93\n",
    "ab=a%b\n",
    "bc=b%c\n",
    "cd=c%d\n",
    "de=d%e\n",
    "ea=e%a\n",
    "print(ab)\n",
    "print(bc)\n",
    "print(cd)\n",
    "print(de)\n",
    "print(ea)"
   ]
  },
  {
   "cell_type": "markdown",
   "id": "1f37d175-6277-4756-8cc0-33d88f6ab029",
   "metadata": {},
   "source": [
    "### Exponentiation(**) \n"
   ]
  },
  {
   "cell_type": "code",
   "execution_count": 223,
   "id": "19d69f92-3dfe-4748-8118-c50acdaf8ce0",
   "metadata": {},
   "outputs": [
    {
     "name": "stdout",
     "output_type": "stream",
     "text": [
      "4096\n",
      "64\n",
      "9\n",
      "32\n",
      "390625\n"
     ]
    }
   ],
   "source": [
    "a=8\n",
    "b=4\n",
    "c=3\n",
    "d=2\n",
    "e=5\n",
    "ab=a**b\n",
    "bc=b**c\n",
    "cd=c**d\n",
    "de=d**e\n",
    "ea=e**a\n",
    "print(ab)\n",
    "print(bc)\n",
    "print(cd)\n",
    "print(de)\n",
    "print(ea)"
   ]
  },
  {
   "cell_type": "markdown",
   "id": "c33b787c-1993-412e-bd20-2d5bb667fa2c",
   "metadata": {},
   "source": [
    "###  Floor Division(//)\n"
   ]
  },
  {
   "cell_type": "code",
   "execution_count": 228,
   "id": "ae0bba9e-c402-4e40-9884-129477a55aea",
   "metadata": {},
   "outputs": [
    {
     "name": "stdout",
     "output_type": "stream",
     "text": [
      "1\n",
      "0\n",
      "1\n",
      "0\n",
      "15\n"
     ]
    }
   ],
   "source": [
    "a=52\n",
    "b=44\n",
    "c=332\n",
    "d=244\n",
    "e=824\n",
    "ab=a//b\n",
    "bc=b//c\n",
    "cd=c//d\n",
    "de=d//e\n",
    "ea=e//a\n",
    "print(ab)\n",
    "print(bc)\n",
    "print(cd)\n",
    "print(de)\n",
    "print(ea)"
   ]
  },
  {
   "cell_type": "markdown",
   "id": "eaec0771-2469-4784-a1b9-4ca3a10fbe0a",
   "metadata": {},
   "source": [
    "## 2. Assignment operators"
   ]
  },
  {
   "cell_type": "markdown",
   "id": "4ad18a05-d158-45eb-949b-a447ec9280b8",
   "metadata": {},
   "source": [
    "#### Assignment operators are used to assign values to variables:\n",
    "\n"
   ]
  },
  {
   "cell_type": "markdown",
   "id": "7b6297eb-a591-400a-bfbc-81d884441868",
   "metadata": {},
   "source": [
    "#### Addition Assignment Operator:"
   ]
  },
  {
   "cell_type": "code",
   "execution_count": 98,
   "id": "a5e0a471-a6a5-40ed-82a9-8ca0b7e6c06d",
   "metadata": {},
   "outputs": [
    {
     "name": "stdout",
     "output_type": "stream",
     "text": [
      "11\n",
      "15\n",
      "17\n",
      "15\n",
      "18\n"
     ]
    }
   ],
   "source": [
    "a=5\n",
    "b=6\n",
    "c=9\n",
    "d=8\n",
    "e=7\n",
    "a+=b\n",
    "b+=c\n",
    "c+=d\n",
    "d+=e\n",
    "e+=a\n",
    "print(a)\n",
    "print(b)\n",
    "print(c)\n",
    "print(d)\n",
    "print(e)"
   ]
  },
  {
   "cell_type": "markdown",
   "id": "3f01647e-0a89-4ad1-9718-e390ad6050c5",
   "metadata": {},
   "source": [
    "#### Subtraction Assignment Operator:\n"
   ]
  },
  {
   "cell_type": "code",
   "execution_count": 93,
   "id": "dd3b785c-b878-46d6-a37b-863b12a0474b",
   "metadata": {},
   "outputs": [
    {
     "name": "stdout",
     "output_type": "stream",
     "text": [
      "18\n",
      "-29\n",
      "21\n",
      "7\n",
      "7\n"
     ]
    }
   ],
   "source": [
    "a=42\n",
    "b=24\n",
    "c=53\n",
    "d=32\n",
    "e=25\n",
    "a-=b\n",
    "b-=c\n",
    "c-=d\n",
    "d-=e\n",
    "e-=a\n",
    "print(a)\n",
    "print(b)\n",
    "print(c)\n",
    "print(d)\n",
    "print(e)"
   ]
  },
  {
   "cell_type": "markdown",
   "id": "82abc109-e261-4965-acd8-30688af0984e",
   "metadata": {},
   "source": [
    "#### Multiplication Assignmment Operator:"
   ]
  },
  {
   "cell_type": "code",
   "execution_count": 100,
   "id": "f867e559-6f10-4453-9de0-ec026c0e4a73",
   "metadata": {},
   "outputs": [
    {
     "name": "stdout",
     "output_type": "stream",
     "text": [
      "3225\n",
      "4800\n",
      "3008\n",
      "1692\n",
      "116100\n"
     ]
    }
   ],
   "source": [
    "a=43\n",
    "b=75\n",
    "c=64\n",
    "d=47\n",
    "e=36\n",
    "a*=b\n",
    "b*=c\n",
    "c*=d\n",
    "d*=e\n",
    "e*=a\n",
    "print(a)\n",
    "print(b)\n",
    "print(c)\n",
    "print(d)\n",
    "print(e)"
   ]
  },
  {
   "cell_type": "markdown",
   "id": "218b6bfc-ab3f-4e37-962d-e2633efbcda6",
   "metadata": {},
   "source": [
    "#### Division Assignment Operator:"
   ]
  },
  {
   "cell_type": "code",
   "execution_count": 103,
   "id": "eb9e5b3a-3096-4ce0-98c5-8ad64fc3a558",
   "metadata": {},
   "outputs": [
    {
     "name": "stdout",
     "output_type": "stream",
     "text": [
      "0.5733333333333334\n",
      "1.171875\n",
      "1.3617021276595744\n",
      "1.3055555555555556\n",
      "62.7906976744186\n"
     ]
    }
   ],
   "source": [
    "a=43\n",
    "b=75\n",
    "c=64\n",
    "d=47\n",
    "e=36\n",
    "a/=b\n",
    "b/=c\n",
    "c/=d\n",
    "d/=e\n",
    "e/=a\n",
    "print(a)\n",
    "print(b)\n",
    "print(c)\n",
    "print(d)\n",
    "print(e)"
   ]
  },
  {
   "cell_type": "markdown",
   "id": "5a861739-d66d-488d-b00e-43b9fe37f183",
   "metadata": {},
   "source": [
    "#### Modulus Assignment Operator:"
   ]
  },
  {
   "cell_type": "code",
   "execution_count": 1,
   "id": "e59c31db-4211-4122-aa4e-6dbd8846787a",
   "metadata": {},
   "outputs": [
    {
     "name": "stdout",
     "output_type": "stream",
     "text": [
      "12\n",
      "55\n",
      "54\n",
      "110\n",
      "4\n"
     ]
    }
   ],
   "source": [
    "a=452\n",
    "b=55\n",
    "c=978\n",
    "d=462\n",
    "e=352\n",
    "a%=b\n",
    "b%=c\n",
    "c%=d\n",
    "d%=e\n",
    "e%=a\n",
    "print(a)\n",
    "print(b)\n",
    "print(c)\n",
    "print(d)\n",
    "print(e)"
   ]
  },
  {
   "cell_type": "markdown",
   "id": "529668f3-7c1e-486c-84ae-d0f89ddc4f8b",
   "metadata": {},
   "source": [
    "#### Exponentiation Assignment Operator:"
   ]
  },
  {
   "cell_type": "code",
   "execution_count": 15,
   "id": "7a4dbffe-1e92-4706-a9ab-f608e1fd1786",
   "metadata": {},
   "outputs": [
    {
     "name": "stdout",
     "output_type": "stream",
     "text": [
      "243\n",
      "25\n",
      "16\n",
      "262144\n",
      "7602033756829688179535612101927342434798006222913345882096671718462026450847558385638399133044640009857513126790996106341658482736771462692522663416083613709397190583473914100243037919870652143046001421207236044960360057945209303129\n"
     ]
    }
   ],
   "source": [
    "a=3\n",
    "b=5\n",
    "c=2\n",
    "d=4\n",
    "e=9\n",
    "a**=b\n",
    "b**=c\n",
    "c**=d\n",
    "d**=e\n",
    "e**=a\n",
    "print(a)\n",
    "print(b)\n",
    "print(c)\n",
    "print(d)\n",
    "print(e)"
   ]
  },
  {
   "cell_type": "markdown",
   "id": "5ebf0aff-695e-4c68-901e-ff5ba16a52f8",
   "metadata": {},
   "source": [
    "## 3. Python Comparison Operators"
   ]
  },
  {
   "cell_type": "markdown",
   "id": "c551c7a8-1aaf-4e09-9f2a-6c18d8d27fe2",
   "metadata": {},
   "source": [
    "#### Comparison operators are used to compare two values:"
   ]
  },
  {
   "cell_type": "markdown",
   "id": "9a71ad57-b845-423e-948d-04ca3ac56add",
   "metadata": {},
   "source": [
    "#### Equality Operators"
   ]
  },
  {
   "cell_type": "code",
   "execution_count": 32,
   "id": "55d16ec0-f335-4b88-9e6b-5515750e3096",
   "metadata": {},
   "outputs": [
    {
     "name": "stdout",
     "output_type": "stream",
     "text": [
      "False\n",
      "True\n",
      "False\n",
      "False\n",
      "True\n"
     ]
    }
   ],
   "source": [
    "a=\"king\"\n",
    "b=\"King\"\n",
    "c=\"hero\"\n",
    "d=42\n",
    "e=\"hero\"\n",
    "f=42\n",
    "print(a==b)\n",
    "print(d==f)\n",
    "print(c==d)\n",
    "print(a==c)\n",
    "print(c==e)"
   ]
  },
  {
   "cell_type": "markdown",
   "id": "d9cf823c-e216-4d16-b39b-204116e71820",
   "metadata": {},
   "source": [
    "#### Not equal to Operator:"
   ]
  },
  {
   "cell_type": "code",
   "execution_count": 38,
   "id": "5e0977a8-6e0d-4f78-839e-7cfd4f2cfd64",
   "metadata": {},
   "outputs": [
    {
     "name": "stdout",
     "output_type": "stream",
     "text": [
      "True\n",
      "True\n",
      "True\n",
      "True\n",
      "True\n"
     ]
    }
   ],
   "source": [
    "a=876\n",
    "b=324\n",
    "c=756\n",
    "d=244\n",
    "e=352\n",
    "\n",
    "print(a!=b)\n",
    "print(b!=c)\n",
    "print(c!=d)\n",
    "print(d!=e)\n",
    "print(e!=a)"
   ]
  },
  {
   "cell_type": "markdown",
   "id": "193540aa-2ab4-458f-8145-4987c59eaf95",
   "metadata": {},
   "source": [
    "#### Greater than Operator:"
   ]
  },
  {
   "cell_type": "code",
   "execution_count": 52,
   "id": "a815f287-5022-41a5-a270-45549436af58",
   "metadata": {},
   "outputs": [
    {
     "name": "stdout",
     "output_type": "stream",
     "text": [
      "False\n",
      "False\n",
      "False\n",
      "True\n",
      "True\n"
     ]
    }
   ],
   "source": [
    "a=12\n",
    "b=23\n",
    "c=47\n",
    "d=97\n",
    "e=35\n",
    "\n",
    "print(a>b)\n",
    "print(b>c)\n",
    "print(c>d)\n",
    "print(d>e)\n",
    "print(e>a)"
   ]
  },
  {
   "cell_type": "markdown",
   "id": "b9e0eef4-8f62-45ae-8737-ee972b621db9",
   "metadata": {},
   "source": [
    "#### Less than Operator:"
   ]
  },
  {
   "cell_type": "code",
   "execution_count": 50,
   "id": "80ec46c2-f8b0-4677-a3ea-61030a16549b",
   "metadata": {},
   "outputs": [
    {
     "name": "stdout",
     "output_type": "stream",
     "text": [
      "False\n",
      "True\n",
      "False\n",
      "True\n",
      "False\n"
     ]
    }
   ],
   "source": [
    "a=89\n",
    "b=34\n",
    "c=434\n",
    "d=68\n",
    "e=223\n",
    "\n",
    "print(a<b)\n",
    "print(b<c)\n",
    "print(c<d)\n",
    "print(d<e)\n",
    "print(e<a)"
   ]
  },
  {
   "cell_type": "markdown",
   "id": "0202c326-38a7-4fd3-b9f1-5d34a1078f29",
   "metadata": {},
   "source": [
    "#### Greater than or equal to Operator:"
   ]
  },
  {
   "cell_type": "code",
   "execution_count": 54,
   "id": "7ee70b52-2227-44b8-a022-8f1036d1024c",
   "metadata": {},
   "outputs": [
    {
     "name": "stdout",
     "output_type": "stream",
     "text": [
      "True\n",
      "False\n",
      "True\n",
      "True\n",
      "False\n"
     ]
    }
   ],
   "source": [
    "a=345\n",
    "b=63\n",
    "c=756\n",
    "d=462\n",
    "e=43\n",
    "\n",
    "print(a>=b)\n",
    "print(b>=c)\n",
    "print(c>=d)\n",
    "print(d>=e)\n",
    "print(e>=a)"
   ]
  },
  {
   "cell_type": "markdown",
   "id": "4b62ab2e-5ec2-4e54-9dc8-f901c78af6b1",
   "metadata": {},
   "source": [
    "#### Less than or equal to Operator:\n"
   ]
  },
  {
   "cell_type": "code",
   "execution_count": 58,
   "id": "d32b1fd5-d6bf-49af-962e-2d4834dd0393",
   "metadata": {},
   "outputs": [
    {
     "name": "stdout",
     "output_type": "stream",
     "text": [
      "True\n",
      "False\n",
      "False\n",
      "False\n",
      "True\n"
     ]
    }
   ],
   "source": [
    "a=428\n",
    "b=657\n",
    "c=533\n",
    "d=463\n",
    "e=255\n",
    "\n",
    "print(a<=b)\n",
    "print(b<=c)\n",
    "print(c<=d)\n",
    "print(d<=e)\n",
    "print(e<=a)"
   ]
  },
  {
   "cell_type": "markdown",
   "id": "095ab290-1d55-4c68-ade8-586bb7f19fef",
   "metadata": {},
   "source": [
    "## 4.Logical Operator:"
   ]
  },
  {
   "cell_type": "markdown",
   "id": "c22a2e12-a596-4497-be1a-9bbff15da6c5",
   "metadata": {},
   "source": [
    "#### A logical operator is a symbol or word used to connect two or more expressions suchthat the value of the compound expression produced depends only on that of the original  expressions and on the meaning of the operator. Common logical operators include AND, OR, and NOT."
   ]
  },
  {
   "cell_type": "markdown",
   "id": "41c0e32f-0745-406e-bf69-1c02747cf70f",
   "metadata": {},
   "source": [
    "### And Operator: Returns true if both the ends are true"
   ]
  },
  {
   "cell_type": "code",
   "execution_count": 81,
   "id": "3ca8b8dd-a865-43bb-b918-7bf6cd69e1bc",
   "metadata": {},
   "outputs": [
    {
     "name": "stdout",
     "output_type": "stream",
     "text": [
      "False\n",
      "True\n",
      "False\n",
      "True\n",
      "True\n"
     ]
    }
   ],
   "source": [
    "print(34>12 and 114>123)\n",
    "print(798>412 and 412>124)\n",
    "print(212==212 and 112==412)\n",
    "print(144==144 and 1412>=412)\n",
    "print(5124>145 and 114<214)"
   ]
  },
  {
   "cell_type": "markdown",
   "id": "51565564-cf98-44d0-86df-546ee8f29746",
   "metadata": {},
   "source": [
    "#### Or Operator:  Returns true if the operand is false."
   ]
  },
  {
   "cell_type": "code",
   "execution_count": 91,
   "id": "e1cf71d5-2113-445d-856d-7b4f1bf2cd05",
   "metadata": {},
   "outputs": [
    {
     "name": "stdout",
     "output_type": "stream",
     "text": [
      "False\n",
      "True\n",
      "False\n",
      "True\n",
      "True\n"
     ]
    }
   ],
   "source": [
    "print(1>33 or 114>123)\n",
    "print(798>232 or 412>124)\n",
    "print(231==212 or 112==412)\n",
    "print(144==144 or 12>=412)\n",
    "print(5>1 or 14<14)"
   ]
  },
  {
   "cell_type": "markdown",
   "id": "a9389643-e270-4b49-8718-ef21f4d658dd",
   "metadata": {},
   "source": [
    "#### not Operator:  Returns true if the operand is false."
   ]
  },
  {
   "cell_type": "code",
   "execution_count": 103,
   "id": "d5831969-b6a3-4bb1-8164-063d4d09a324",
   "metadata": {},
   "outputs": [
    {
     "name": "stdout",
     "output_type": "stream",
     "text": [
      "False\n",
      "False\n",
      "False\n",
      "True\n",
      "False\n",
      "True\n"
     ]
    }
   ],
   "source": [
    "print(not(5>3))\n",
    "print(not(44!=45 or 83<48))\n",
    "print(not(923>=322))\n",
    "print(not(45==65))\n",
    "print(not(66>23 and 726!=87))\n",
    "print(not(443>555))"
   ]
  },
  {
   "cell_type": "markdown",
   "id": "8af6db20-b591-4823-a8bc-5d6030737704",
   "metadata": {},
   "source": [
    "## 5.Identity Operators:\n",
    "#### Identify whether the value is present or not"
   ]
  },
  {
   "cell_type": "markdown",
   "id": "18e42638-f58b-4c21-8295-603ed1787492",
   "metadata": {},
   "source": [
    "#### Is Operator:  Returns true if the operands are identical"
   ]
  },
  {
   "cell_type": "code",
   "execution_count": 111,
   "id": "1a9aff8e-4210-46f5-9a78-6f1929e68905",
   "metadata": {},
   "outputs": [
    {
     "name": "stdout",
     "output_type": "stream",
     "text": [
      "False\n",
      "False\n",
      "True\n",
      "False\n",
      "False\n",
      "True\n"
     ]
    }
   ],
   "source": [
    "a=\"hello world\"\n",
    "b=\"hello\"\n",
    "c=96\n",
    "d=96\n",
    "e=\"hello\"\n",
    "f=35.932\n",
    "g=8743.53\n",
    "\n",
    "print(a is b)\n",
    "print(b is c)\n",
    "print(c is d)\n",
    "print(d is e)\n",
    "print(e is f)\n",
    "print(b is e)"
   ]
  },
  {
   "cell_type": "markdown",
   "id": "210bc69e-0f41-4168-b558-ab1cfdd59094",
   "metadata": {},
   "source": [
    "#### Is not Operator: True if the operands are not identical"
   ]
  },
  {
   "cell_type": "code",
   "execution_count": 115,
   "id": "04104d8a-521f-4cfb-a99f-54de04d94a77",
   "metadata": {},
   "outputs": [
    {
     "name": "stdout",
     "output_type": "stream",
     "text": [
      "True\n",
      "True\n",
      "False\n",
      "True\n",
      "True\n",
      "False\n"
     ]
    }
   ],
   "source": [
    "a=\"hello world\"\n",
    "b=\"hello\"\n",
    "c=96\n",
    "d=96\n",
    "e=\"hello\"\n",
    "f=35.932\n",
    "g=8743.53\n",
    "\n",
    "print(a is not b)\n",
    "print(b is not c)\n",
    "print(c is not d)\n",
    "print(d is not e)\n",
    "print(e is not f)\n",
    "print(b is not e)"
   ]
  },
  {
   "cell_type": "markdown",
   "id": "ae719a69-c8e8-4f2d-aacd-1c67415640ef",
   "metadata": {},
   "source": [
    "## 6.Membership Operator:"
   ]
  },
  {
   "cell_type": "markdown",
   "id": "d1726f97-c90b-40fd-a739-d170bdc23339",
   "metadata": {},
   "source": [
    "#### Membership operators are used to test if a sequence is presented in an object"
   ]
  },
  {
   "cell_type": "markdown",
   "id": "2c7676c9-1369-472e-bc74-9d2799811c8f",
   "metadata": {},
   "source": [
    "#### In Operator: True if value or variable is found in sequence\n",
    "          "
   ]
  },
  {
   "cell_type": "code",
   "execution_count": 135,
   "id": "c2a334f1-a048-4382-9cde-408494f811d9",
   "metadata": {},
   "outputs": [
    {
     "name": "stdout",
     "output_type": "stream",
     "text": [
      "True\n",
      "False\n",
      "True\n",
      "False\n",
      "False\n"
     ]
    }
   ],
   "source": [
    "a=\"hasan\"\n",
    "b=[8,21,14,24,3,552,25,44]\n",
    "print(\"a\" in a)\n",
    "print(\"H\" in a) \n",
    "print(24 in b)\n",
    "print(0 in b)\n",
    "print(23 in b)"
   ]
  },
  {
   "cell_type": "markdown",
   "id": "28f4d255-af3c-4fdd-a577-3e3574239c41",
   "metadata": {},
   "source": [
    "#### not in Operator: True if value or variable is not found in the sequence"
   ]
  },
  {
   "cell_type": "code",
   "execution_count": 138,
   "id": "65c15175-541b-4a46-bc15-410375fdeba6",
   "metadata": {},
   "outputs": [
    {
     "name": "stdout",
     "output_type": "stream",
     "text": [
      "False\n",
      "True\n",
      "False\n",
      "True\n",
      "True\n"
     ]
    }
   ],
   "source": [
    "a=\"hasan\"\n",
    "b=[8,21,14,24,3,552,25,44]\n",
    "print(\"a\" not in a)\n",
    "print(\"H\" not in a) \n",
    "print(24 not in b)\n",
    "print(0 not in b)\n",
    "print(23 not in b)"
   ]
  },
  {
   "cell_type": "markdown",
   "id": "929a8469-6e94-4af1-babc-bdc8095fa4ee",
   "metadata": {},
   "source": [
    "## Precedence Operator:"
   ]
  },
  {
   "cell_type": "markdown",
   "id": "27381803-9634-437d-96a5-48c444ffaab7",
   "metadata": {},
   "source": [
    "### operator precedence describes the order in whichoperations are performed"
   ]
  },
  {
   "cell_type": "markdown",
   "id": "1eebbf88-796c-48bd-a235-d754085504ef",
   "metadata": {},
   "source": [
    "Parentheses ()\n",
    "\n",
    "Exponentiation **\n",
    "\n",
    "Unary plus and minus +x, -x\n",
    "\n",
    "Multiplication, Division, Floor Division, Modulus *, /, //, %\n",
    "\n",
    "Addition and Subtraction +, -\n",
    "\n",
    "Bitwise Shift Operators <<, >>\n",
    "\n",
    "Bitwise AND &\n",
    "\n",
    "Bitwise XOR ^\n",
    "\n",
    "Bitwise OR |\n",
    "\n",
    "Comparison Operators <, <=, >, >=, ==, !=\n",
    "\n",
    "Identity Operators is, is not\n",
    "\n",
    "Membership Operators in, not in\n",
    "\n",
    "Logical NOT not\n",
    "\n",
    "Logical AND and"
   ]
  },
  {
   "cell_type": "code",
   "execution_count": 200,
   "id": "36395cd2-7873-455a-bbca-69336746b48f",
   "metadata": {},
   "outputs": [
    {
     "data": {
      "text/plain": [
       "133065965470431736108158453147794519370135433761511673513649831950196462467333776658295913209414"
      ]
     },
     "execution_count": 200,
     "metadata": {},
     "output_type": "execute_result"
    }
   ],
   "source": [
    "2*4-3*(2)+163**43-32535"
   ]
  },
  {
   "cell_type": "code",
   "execution_count": 204,
   "id": "6e111a62-ea91-48fe-9a70-6ead9f2a1133",
   "metadata": {},
   "outputs": [
    {
     "data": {
      "text/plain": [
       "-536374.0"
      ]
     },
     "execution_count": 204,
     "metadata": {},
     "output_type": "execute_result"
    }
   ],
   "source": [
    "657-862*(862-238)+857+(736>7348)/55"
   ]
  },
  {
   "cell_type": "code",
   "execution_count": null,
   "id": "bc44270b-f304-4c0a-9f43-a0b3e7484019",
   "metadata": {},
   "outputs": [],
   "source": []
  }
 ],
 "metadata": {
  "kernelspec": {
   "display_name": "Python 3 (ipykernel)",
   "language": "python",
   "name": "python3"
  },
  "language_info": {
   "codemirror_mode": {
    "name": "ipython",
    "version": 3
   },
   "file_extension": ".py",
   "mimetype": "text/x-python",
   "name": "python",
   "nbconvert_exporter": "python",
   "pygments_lexer": "ipython3",
   "version": "3.12.4"
  }
 },
 "nbformat": 4,
 "nbformat_minor": 5
}
